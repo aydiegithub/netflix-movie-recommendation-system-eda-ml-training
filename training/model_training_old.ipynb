{
 "cells": [
  {
   "metadata": {},
   "cell_type": "markdown",
   "source": "# Train a Regression Model ",
   "id": "f3437baa8c59cf63"
  },
  {
   "metadata": {
    "ExecuteTime": {
     "end_time": "2025-05-04T12:01:27.348841Z",
     "start_time": "2025-05-04T12:01:26.078653Z"
    }
   },
   "cell_type": "code",
   "source": [
    "import pandas as pd\n",
    "from xgboost import XGBRegressor\n",
    "from sklearn.model_selection import train_test_split, GridSearchCV\n",
    "from sklearn.metrics import mean_squared_error"
   ],
   "id": "aa884bb29d3aa5e4",
   "outputs": [],
   "execution_count": 2
  },
  {
   "metadata": {
    "ExecuteTime": {
     "end_time": "2025-05-04T13:53:39.432451Z",
     "start_time": "2025-05-04T13:53:07.587532Z"
    }
   },
   "cell_type": "code",
   "source": [
    "# Load training data\n",
    "train_df = pd.read_csv('train.csv')\n",
    "\n",
    "# Features and Target let's use only movie features and skip user features\n",
    "X_train = train_df.drop(columns=['Unnamed: 0','userId','movieId','rating', 'user_last_rating_ts', 'user_last_rating_ordinal', 'user_rating_count','user_rating_mean','user_rating_var','user_rating_std'])\n",
    "y_train = train_df['rating']"
   ],
   "id": "9be418ef35aebdcf",
   "outputs": [],
   "execution_count": 46
  },
  {
   "metadata": {
    "ExecuteTime": {
     "end_time": "2025-05-04T06:39:16.830047Z",
     "start_time": "2025-05-04T06:39:12.826187Z"
    }
   },
   "cell_type": "code",
   "source": "X_train",
   "id": "88f193c5d5286e51",
   "outputs": [
    {
     "data": {
      "text/plain": [
       "          movie_rating_count  movie_rating_mean  movie_rating_var  \\\n",
       "0                        668           3.101048          1.420434   \n",
       "1                      18242           3.715355          0.967558   \n",
       "2                       1124           3.430160          0.924103   \n",
       "3                       1179           3.486853          1.092145   \n",
       "4                       3235           3.288099          1.025353   \n",
       "...                      ...                ...               ...   \n",
       "20000071               18474           4.026145          0.782865   \n",
       "20000072               14182           3.491045          0.884871   \n",
       "20000073                2059           3.122875          1.155934   \n",
       "20000074                4100           3.451220          1.260001   \n",
       "20000075                5708           3.453399          0.997477   \n",
       "\n",
       "          movie_rating_std  year  Action  Adventure  Animation  Children  \\\n",
       "0                 1.191819  1995       0          0          0         0   \n",
       "1                 0.983645  1995       0          0          0         0   \n",
       "2                 0.961303  1995       0          0          0         0   \n",
       "3                 1.045057  1995       0          0          0         0   \n",
       "4                 1.012597  1996       0          0          0         0   \n",
       "...                    ...   ...     ...        ...        ...       ...   \n",
       "20000071          0.884797  2007       0          0          0         0   \n",
       "20000072          0.940676  2007       1          0          0         0   \n",
       "20000073          1.075144  2008       0          1          0         0   \n",
       "20000074          1.122498  2008       0          0          0         0   \n",
       "20000075          0.998738  2008       1          0          0         0   \n",
       "\n",
       "          Comedy  ...  Film-Noir  Horror  IMAX  Musical  Mystery  Romance  \\\n",
       "0              0  ...          0       0     0        0        0        0   \n",
       "1              0  ...          0       0     0        0        0        0   \n",
       "2              1  ...          0       0     0        0        0        1   \n",
       "3              1  ...          0       0     0        0        0        0   \n",
       "4              0  ...          0       0     0        0        0        1   \n",
       "...          ...  ...        ...     ...   ...      ...      ...      ...   \n",
       "20000071       0  ...          0       0     0        0        0        0   \n",
       "20000072       0  ...          0       1     1        0        0        0   \n",
       "20000073       1  ...          0       0     0        0        0        0   \n",
       "20000074       1  ...          0       0     0        0        0        0   \n",
       "20000075       1  ...          0       0     0        0        0        0   \n",
       "\n",
       "          Sci-Fi  Thriller  War  Western  \n",
       "0              0         0    0        0  \n",
       "1              0         0    0        0  \n",
       "2              0         0    0        0  \n",
       "3              0         0    0        0  \n",
       "4              0         0    0        0  \n",
       "...          ...       ...  ...      ...  \n",
       "20000071       0         0    0        0  \n",
       "20000072       1         1    0        0  \n",
       "20000073       0         0    0        0  \n",
       "20000074       0         0    0        0  \n",
       "20000075       0         0    0        0  \n",
       "\n",
       "[20000076 rows x 24 columns]"
      ],
      "text/html": [
       "<div>\n",
       "<style scoped>\n",
       "    .dataframe tbody tr th:only-of-type {\n",
       "        vertical-align: middle;\n",
       "    }\n",
       "\n",
       "    .dataframe tbody tr th {\n",
       "        vertical-align: top;\n",
       "    }\n",
       "\n",
       "    .dataframe thead th {\n",
       "        text-align: right;\n",
       "    }\n",
       "</style>\n",
       "<table border=\"1\" class=\"dataframe\">\n",
       "  <thead>\n",
       "    <tr style=\"text-align: right;\">\n",
       "      <th></th>\n",
       "      <th>movie_rating_count</th>\n",
       "      <th>movie_rating_mean</th>\n",
       "      <th>movie_rating_var</th>\n",
       "      <th>movie_rating_std</th>\n",
       "      <th>year</th>\n",
       "      <th>Action</th>\n",
       "      <th>Adventure</th>\n",
       "      <th>Animation</th>\n",
       "      <th>Children</th>\n",
       "      <th>Comedy</th>\n",
       "      <th>...</th>\n",
       "      <th>Film-Noir</th>\n",
       "      <th>Horror</th>\n",
       "      <th>IMAX</th>\n",
       "      <th>Musical</th>\n",
       "      <th>Mystery</th>\n",
       "      <th>Romance</th>\n",
       "      <th>Sci-Fi</th>\n",
       "      <th>Thriller</th>\n",
       "      <th>War</th>\n",
       "      <th>Western</th>\n",
       "    </tr>\n",
       "  </thead>\n",
       "  <tbody>\n",
       "    <tr>\n",
       "      <th>0</th>\n",
       "      <td>668</td>\n",
       "      <td>3.101048</td>\n",
       "      <td>1.420434</td>\n",
       "      <td>1.191819</td>\n",
       "      <td>1995</td>\n",
       "      <td>0</td>\n",
       "      <td>0</td>\n",
       "      <td>0</td>\n",
       "      <td>0</td>\n",
       "      <td>0</td>\n",
       "      <td>...</td>\n",
       "      <td>0</td>\n",
       "      <td>0</td>\n",
       "      <td>0</td>\n",
       "      <td>0</td>\n",
       "      <td>0</td>\n",
       "      <td>0</td>\n",
       "      <td>0</td>\n",
       "      <td>0</td>\n",
       "      <td>0</td>\n",
       "      <td>0</td>\n",
       "    </tr>\n",
       "    <tr>\n",
       "      <th>1</th>\n",
       "      <td>18242</td>\n",
       "      <td>3.715355</td>\n",
       "      <td>0.967558</td>\n",
       "      <td>0.983645</td>\n",
       "      <td>1995</td>\n",
       "      <td>0</td>\n",
       "      <td>0</td>\n",
       "      <td>0</td>\n",
       "      <td>0</td>\n",
       "      <td>0</td>\n",
       "      <td>...</td>\n",
       "      <td>0</td>\n",
       "      <td>0</td>\n",
       "      <td>0</td>\n",
       "      <td>0</td>\n",
       "      <td>0</td>\n",
       "      <td>0</td>\n",
       "      <td>0</td>\n",
       "      <td>0</td>\n",
       "      <td>0</td>\n",
       "      <td>0</td>\n",
       "    </tr>\n",
       "    <tr>\n",
       "      <th>2</th>\n",
       "      <td>1124</td>\n",
       "      <td>3.430160</td>\n",
       "      <td>0.924103</td>\n",
       "      <td>0.961303</td>\n",
       "      <td>1995</td>\n",
       "      <td>0</td>\n",
       "      <td>0</td>\n",
       "      <td>0</td>\n",
       "      <td>0</td>\n",
       "      <td>1</td>\n",
       "      <td>...</td>\n",
       "      <td>0</td>\n",
       "      <td>0</td>\n",
       "      <td>0</td>\n",
       "      <td>0</td>\n",
       "      <td>0</td>\n",
       "      <td>1</td>\n",
       "      <td>0</td>\n",
       "      <td>0</td>\n",
       "      <td>0</td>\n",
       "      <td>0</td>\n",
       "    </tr>\n",
       "    <tr>\n",
       "      <th>3</th>\n",
       "      <td>1179</td>\n",
       "      <td>3.486853</td>\n",
       "      <td>1.092145</td>\n",
       "      <td>1.045057</td>\n",
       "      <td>1995</td>\n",
       "      <td>0</td>\n",
       "      <td>0</td>\n",
       "      <td>0</td>\n",
       "      <td>0</td>\n",
       "      <td>1</td>\n",
       "      <td>...</td>\n",
       "      <td>0</td>\n",
       "      <td>0</td>\n",
       "      <td>0</td>\n",
       "      <td>0</td>\n",
       "      <td>0</td>\n",
       "      <td>0</td>\n",
       "      <td>0</td>\n",
       "      <td>0</td>\n",
       "      <td>0</td>\n",
       "      <td>0</td>\n",
       "    </tr>\n",
       "    <tr>\n",
       "      <th>4</th>\n",
       "      <td>3235</td>\n",
       "      <td>3.288099</td>\n",
       "      <td>1.025353</td>\n",
       "      <td>1.012597</td>\n",
       "      <td>1996</td>\n",
       "      <td>0</td>\n",
       "      <td>0</td>\n",
       "      <td>0</td>\n",
       "      <td>0</td>\n",
       "      <td>0</td>\n",
       "      <td>...</td>\n",
       "      <td>0</td>\n",
       "      <td>0</td>\n",
       "      <td>0</td>\n",
       "      <td>0</td>\n",
       "      <td>0</td>\n",
       "      <td>1</td>\n",
       "      <td>0</td>\n",
       "      <td>0</td>\n",
       "      <td>0</td>\n",
       "      <td>0</td>\n",
       "    </tr>\n",
       "    <tr>\n",
       "      <th>...</th>\n",
       "      <td>...</td>\n",
       "      <td>...</td>\n",
       "      <td>...</td>\n",
       "      <td>...</td>\n",
       "      <td>...</td>\n",
       "      <td>...</td>\n",
       "      <td>...</td>\n",
       "      <td>...</td>\n",
       "      <td>...</td>\n",
       "      <td>...</td>\n",
       "      <td>...</td>\n",
       "      <td>...</td>\n",
       "      <td>...</td>\n",
       "      <td>...</td>\n",
       "      <td>...</td>\n",
       "      <td>...</td>\n",
       "      <td>...</td>\n",
       "      <td>...</td>\n",
       "      <td>...</td>\n",
       "      <td>...</td>\n",
       "      <td>...</td>\n",
       "    </tr>\n",
       "    <tr>\n",
       "      <th>20000071</th>\n",
       "      <td>18474</td>\n",
       "      <td>4.026145</td>\n",
       "      <td>0.782865</td>\n",
       "      <td>0.884797</td>\n",
       "      <td>2007</td>\n",
       "      <td>0</td>\n",
       "      <td>0</td>\n",
       "      <td>0</td>\n",
       "      <td>0</td>\n",
       "      <td>0</td>\n",
       "      <td>...</td>\n",
       "      <td>0</td>\n",
       "      <td>0</td>\n",
       "      <td>0</td>\n",
       "      <td>0</td>\n",
       "      <td>0</td>\n",
       "      <td>0</td>\n",
       "      <td>0</td>\n",
       "      <td>0</td>\n",
       "      <td>0</td>\n",
       "      <td>0</td>\n",
       "    </tr>\n",
       "    <tr>\n",
       "      <th>20000072</th>\n",
       "      <td>14182</td>\n",
       "      <td>3.491045</td>\n",
       "      <td>0.884871</td>\n",
       "      <td>0.940676</td>\n",
       "      <td>2007</td>\n",
       "      <td>1</td>\n",
       "      <td>0</td>\n",
       "      <td>0</td>\n",
       "      <td>0</td>\n",
       "      <td>0</td>\n",
       "      <td>...</td>\n",
       "      <td>0</td>\n",
       "      <td>1</td>\n",
       "      <td>1</td>\n",
       "      <td>0</td>\n",
       "      <td>0</td>\n",
       "      <td>0</td>\n",
       "      <td>1</td>\n",
       "      <td>1</td>\n",
       "      <td>0</td>\n",
       "      <td>0</td>\n",
       "    </tr>\n",
       "    <tr>\n",
       "      <th>20000073</th>\n",
       "      <td>2059</td>\n",
       "      <td>3.122875</td>\n",
       "      <td>1.155934</td>\n",
       "      <td>1.075144</td>\n",
       "      <td>2008</td>\n",
       "      <td>0</td>\n",
       "      <td>1</td>\n",
       "      <td>0</td>\n",
       "      <td>0</td>\n",
       "      <td>1</td>\n",
       "      <td>...</td>\n",
       "      <td>0</td>\n",
       "      <td>0</td>\n",
       "      <td>0</td>\n",
       "      <td>0</td>\n",
       "      <td>0</td>\n",
       "      <td>0</td>\n",
       "      <td>0</td>\n",
       "      <td>0</td>\n",
       "      <td>0</td>\n",
       "      <td>0</td>\n",
       "    </tr>\n",
       "    <tr>\n",
       "      <th>20000074</th>\n",
       "      <td>4100</td>\n",
       "      <td>3.451220</td>\n",
       "      <td>1.260001</td>\n",
       "      <td>1.122498</td>\n",
       "      <td>2008</td>\n",
       "      <td>0</td>\n",
       "      <td>0</td>\n",
       "      <td>0</td>\n",
       "      <td>0</td>\n",
       "      <td>1</td>\n",
       "      <td>...</td>\n",
       "      <td>0</td>\n",
       "      <td>0</td>\n",
       "      <td>0</td>\n",
       "      <td>0</td>\n",
       "      <td>0</td>\n",
       "      <td>0</td>\n",
       "      <td>0</td>\n",
       "      <td>0</td>\n",
       "      <td>0</td>\n",
       "      <td>0</td>\n",
       "    </tr>\n",
       "    <tr>\n",
       "      <th>20000075</th>\n",
       "      <td>5708</td>\n",
       "      <td>3.453399</td>\n",
       "      <td>0.997477</td>\n",
       "      <td>0.998738</td>\n",
       "      <td>2008</td>\n",
       "      <td>1</td>\n",
       "      <td>0</td>\n",
       "      <td>0</td>\n",
       "      <td>0</td>\n",
       "      <td>1</td>\n",
       "      <td>...</td>\n",
       "      <td>0</td>\n",
       "      <td>0</td>\n",
       "      <td>0</td>\n",
       "      <td>0</td>\n",
       "      <td>0</td>\n",
       "      <td>0</td>\n",
       "      <td>0</td>\n",
       "      <td>0</td>\n",
       "      <td>0</td>\n",
       "      <td>0</td>\n",
       "    </tr>\n",
       "  </tbody>\n",
       "</table>\n",
       "<p>20000076 rows × 24 columns</p>\n",
       "</div>"
      ]
     },
     "execution_count": 82,
     "metadata": {},
     "output_type": "execute_result"
    }
   ],
   "execution_count": 82
  },
  {
   "metadata": {
    "ExecuteTime": {
     "end_time": "2025-05-04T12:02:21.910180Z",
     "start_time": "2025-05-04T12:02:21.905671Z"
    }
   },
   "cell_type": "code",
   "source": "X_train.columns",
   "id": "7186a44da101f06",
   "outputs": [
    {
     "data": {
      "text/plain": [
       "Index(['movie_rating_count', 'movie_rating_mean', 'movie_rating_var',\n",
       "       'movie_rating_std', 'year', 'Action', 'Adventure', 'Animation',\n",
       "       'Children', 'Comedy', 'Crime', 'Documentary', 'Drama', 'Fantasy',\n",
       "       'Film-Noir', 'Horror', 'IMAX', 'Musical', 'Mystery', 'Romance',\n",
       "       'Sci-Fi', 'Thriller', 'War', 'Western'],\n",
       "      dtype='object')"
      ]
     },
     "execution_count": 5,
     "metadata": {},
     "output_type": "execute_result"
    }
   ],
   "execution_count": 5
  },
  {
   "metadata": {
    "ExecuteTime": {
     "end_time": "2025-05-04T06:40:04.744163Z",
     "start_time": "2025-05-04T06:40:04.738322Z"
    }
   },
   "cell_type": "code",
   "source": [
    "# Define the model\n",
    "xgb = XGBRegressor(random_state = 42, n_jobs = -1)\n",
    "\n",
    "# Define hyperparameters to search\n",
    "param_grid = {\n",
    "    'n_estimators': [100, 200],\n",
    "    'max_depth': [4, 6, 8],\n",
    "    'learning_rate': [0.05, 0.1, 0.2]\n",
    "}"
   ],
   "id": "4da64b9acebe4baf",
   "outputs": [],
   "execution_count": 83
  },
  {
   "metadata": {
    "ExecuteTime": {
     "end_time": "2025-05-04T06:40:11.216276Z",
     "start_time": "2025-05-04T06:40:11.213059Z"
    }
   },
   "cell_type": "code",
   "source": [
    "# Grid Search\n",
    "grid_search = GridSearchCV(\n",
    "    estimator = xgb,\n",
    "    param_grid = param_grid,\n",
    "    cv = 3,\n",
    "    scoring = 'neg_root_mean_squared_error',\n",
    "    verbose = 2\n",
    ")"
   ],
   "id": "7d313a0b8e7f5429",
   "outputs": [],
   "execution_count": 84
  },
  {
   "metadata": {
    "ExecuteTime": {
     "end_time": "2025-05-04T07:04:04.816334Z",
     "start_time": "2025-05-04T06:40:11.217512Z"
    }
   },
   "cell_type": "code",
   "source": [
    "# Fit the model\n",
    "grid_search.fit(X_train, y_train)\n",
    "\n",
    "print(\"Best Params: \", grid_search.best_params_)\n",
    "print(\"Best RMSE: \", grid_search.best_score_)"
   ],
   "id": "b2c12d588f3d568d",
   "outputs": [
    {
     "name": "stdout",
     "output_type": "stream",
     "text": [
      "Fitting 3 folds for each of 18 candidates, totalling 54 fits\n",
      "[CV] END ..learning_rate=0.05, max_depth=4, n_estimators=100; total time=  17.0s\n",
      "[CV] END ..learning_rate=0.05, max_depth=4, n_estimators=100; total time=  16.3s\n",
      "[CV] END ..learning_rate=0.05, max_depth=4, n_estimators=100; total time=  15.9s\n",
      "[CV] END ..learning_rate=0.05, max_depth=4, n_estimators=200; total time=  23.8s\n",
      "[CV] END ..learning_rate=0.05, max_depth=4, n_estimators=200; total time=  24.1s\n",
      "[CV] END ..learning_rate=0.05, max_depth=4, n_estimators=200; total time=  23.9s\n",
      "[CV] END ..learning_rate=0.05, max_depth=6, n_estimators=100; total time=  21.6s\n",
      "[CV] END ..learning_rate=0.05, max_depth=6, n_estimators=100; total time=  21.3s\n",
      "[CV] END ..learning_rate=0.05, max_depth=6, n_estimators=100; total time=  21.1s\n",
      "[CV] END ..learning_rate=0.05, max_depth=6, n_estimators=200; total time=  32.5s\n",
      "[CV] END ..learning_rate=0.05, max_depth=6, n_estimators=200; total time=  33.0s\n",
      "[CV] END ..learning_rate=0.05, max_depth=6, n_estimators=200; total time=  31.8s\n",
      "[CV] END ..learning_rate=0.05, max_depth=8, n_estimators=100; total time=  27.4s\n",
      "[CV] END ..learning_rate=0.05, max_depth=8, n_estimators=100; total time=  27.7s\n",
      "[CV] END ..learning_rate=0.05, max_depth=8, n_estimators=100; total time=  27.4s\n",
      "[CV] END ..learning_rate=0.05, max_depth=8, n_estimators=200; total time=  43.3s\n",
      "[CV] END ..learning_rate=0.05, max_depth=8, n_estimators=200; total time=  42.8s\n",
      "[CV] END ..learning_rate=0.05, max_depth=8, n_estimators=200; total time=  43.7s\n",
      "[CV] END ...learning_rate=0.1, max_depth=4, n_estimators=100; total time=  15.6s\n",
      "[CV] END ...learning_rate=0.1, max_depth=4, n_estimators=100; total time=  15.9s\n",
      "[CV] END ...learning_rate=0.1, max_depth=4, n_estimators=100; total time=  15.7s\n",
      "[CV] END ...learning_rate=0.1, max_depth=4, n_estimators=200; total time=  24.8s\n",
      "[CV] END ...learning_rate=0.1, max_depth=4, n_estimators=200; total time=  24.6s\n",
      "[CV] END ...learning_rate=0.1, max_depth=4, n_estimators=200; total time=  24.4s\n",
      "[CV] END ...learning_rate=0.1, max_depth=6, n_estimators=100; total time=  20.5s\n",
      "[CV] END ...learning_rate=0.1, max_depth=6, n_estimators=100; total time=  20.4s\n",
      "[CV] END ...learning_rate=0.1, max_depth=6, n_estimators=100; total time=  20.4s\n",
      "[CV] END ...learning_rate=0.1, max_depth=6, n_estimators=200; total time=  32.3s\n",
      "[CV] END ...learning_rate=0.1, max_depth=6, n_estimators=200; total time=  31.6s\n",
      "[CV] END ...learning_rate=0.1, max_depth=6, n_estimators=200; total time=  31.2s\n",
      "[CV] END ...learning_rate=0.1, max_depth=8, n_estimators=100; total time=  25.2s\n",
      "[CV] END ...learning_rate=0.1, max_depth=8, n_estimators=100; total time=  24.8s\n",
      "[CV] END ...learning_rate=0.1, max_depth=8, n_estimators=100; total time=  24.9s\n",
      "[CV] END ...learning_rate=0.1, max_depth=8, n_estimators=200; total time=  39.3s\n",
      "[CV] END ...learning_rate=0.1, max_depth=8, n_estimators=200; total time=  38.8s\n",
      "[CV] END ...learning_rate=0.1, max_depth=8, n_estimators=200; total time=  40.6s\n",
      "[CV] END ...learning_rate=0.2, max_depth=4, n_estimators=100; total time=  15.6s\n",
      "[CV] END ...learning_rate=0.2, max_depth=4, n_estimators=100; total time=  15.4s\n",
      "[CV] END ...learning_rate=0.2, max_depth=4, n_estimators=100; total time=  15.7s\n",
      "[CV] END ...learning_rate=0.2, max_depth=4, n_estimators=200; total time=  24.6s\n",
      "[CV] END ...learning_rate=0.2, max_depth=4, n_estimators=200; total time=  23.9s\n",
      "[CV] END ...learning_rate=0.2, max_depth=4, n_estimators=200; total time=  23.8s\n",
      "[CV] END ...learning_rate=0.2, max_depth=6, n_estimators=100; total time=  19.1s\n",
      "[CV] END ...learning_rate=0.2, max_depth=6, n_estimators=100; total time=  18.8s\n",
      "[CV] END ...learning_rate=0.2, max_depth=6, n_estimators=100; total time=  18.6s\n",
      "[CV] END ...learning_rate=0.2, max_depth=6, n_estimators=200; total time=  30.3s\n",
      "[CV] END ...learning_rate=0.2, max_depth=6, n_estimators=200; total time=  30.1s\n",
      "[CV] END ...learning_rate=0.2, max_depth=6, n_estimators=200; total time=  29.6s\n",
      "[CV] END ...learning_rate=0.2, max_depth=8, n_estimators=100; total time=  22.4s\n",
      "[CV] END ...learning_rate=0.2, max_depth=8, n_estimators=100; total time=  22.0s\n",
      "[CV] END ...learning_rate=0.2, max_depth=8, n_estimators=100; total time=  22.2s\n",
      "[CV] END ...learning_rate=0.2, max_depth=8, n_estimators=200; total time=  38.2s\n",
      "[CV] END ...learning_rate=0.2, max_depth=8, n_estimators=200; total time=  35.6s\n",
      "[CV] END ...learning_rate=0.2, max_depth=8, n_estimators=200; total time=  36.9s\n",
      "Best Params:  {'learning_rate': 0.05, 'max_depth': 4, 'n_estimators': 100}\n",
      "Best RMSE:  -0.9665815189081229\n"
     ]
    }
   ],
   "execution_count": 85
  },
  {
   "metadata": {},
   "cell_type": "markdown",
   "source": "# Model Evaluation and Exporting the Model",
   "id": "96b49b1e9fc9c2ac"
  },
  {
   "metadata": {
    "ExecuteTime": {
     "end_time": "2025-05-04T13:53:47.245392Z",
     "start_time": "2025-05-04T13:53:39.440411Z"
    }
   },
   "cell_type": "code",
   "source": [
    "import joblib\n",
    "\n",
    "# Load Test Set\n",
    "test_df = pd.read_csv('test.csv')\n",
    "\n",
    "# Prepare X_test and y_test\n",
    "X_test = test_df.drop(columns=['Unnamed: 0','userId', 'rating', 'user_last_rating_ts', 'user_last_rating_ordinal', 'user_rating_count','user_rating_mean','user_rating_var','user_rating_std'])\n",
    "y_test = test_df['rating']"
   ],
   "id": "4ff2f4e51dd6eb2b",
   "outputs": [],
   "execution_count": 47
  },
  {
   "metadata": {
    "ExecuteTime": {
     "end_time": "2025-05-04T07:05:08.204285Z",
     "start_time": "2025-05-04T07:05:08.201203Z"
    }
   },
   "cell_type": "code",
   "source": [
    "# Load the best model\n",
    "best_model = grid_search.best_estimator_"
   ],
   "id": "cbafc0481ebf2de1",
   "outputs": [],
   "execution_count": 92
  },
  {
   "metadata": {
    "ExecuteTime": {
     "end_time": "2025-05-04T07:05:16.663132Z",
     "start_time": "2025-05-04T07:05:15.962546Z"
    }
   },
   "cell_type": "code",
   "source": [
    "# Predict and Evaluate\n",
    "y_pred = best_model.predict(X_test)\n",
    "rmse = mean_squared_error(y_test, y_pred, squared = False)\n",
    "print(f\"Test RMSE: {rmse:.4f}\")\n",
    "\n",
    "joblib.dump(best_model, 'xgb_rating_model.joblib')"
   ],
   "id": "70e35276fa136085",
   "outputs": [
    {
     "name": "stdout",
     "output_type": "stream",
     "text": [
      "Test RMSE: 0.9363\n"
     ]
    },
    {
     "name": "stderr",
     "output_type": "stream",
     "text": [
      "/opt/anaconda3/lib/python3.11/site-packages/sklearn/metrics/_regression.py:492: FutureWarning: 'squared' is deprecated in version 1.4 and will be removed in 1.6. To calculate the root mean squared error, use the function'root_mean_squared_error'.\n",
      "  warnings.warn(\n"
     ]
    },
    {
     "data": {
      "text/plain": [
       "['xgb_rating_model.joblib']"
      ]
     },
     "execution_count": 93,
     "metadata": {},
     "output_type": "execute_result"
    }
   ],
   "execution_count": 93
  },
  {
   "metadata": {
    "ExecuteTime": {
     "end_time": "2025-05-04T07:05:19.604311Z",
     "start_time": "2025-05-04T07:05:16.663885Z"
    }
   },
   "cell_type": "code",
   "source": [
    "y_pred = best_model.predict(X_train)\n",
    "rmse = mean_squared_error(y_train, y_pred, squared = False)\n",
    "print(f\"Train RMSE: {rmse:.4f}\")"
   ],
   "id": "58b2d22d3d6de988",
   "outputs": [
    {
     "name": "stdout",
     "output_type": "stream",
     "text": [
      "Train RMSE: 0.9622\n"
     ]
    },
    {
     "name": "stderr",
     "output_type": "stream",
     "text": [
      "/opt/anaconda3/lib/python3.11/site-packages/sklearn/metrics/_regression.py:492: FutureWarning: 'squared' is deprecated in version 1.4 and will be removed in 1.6. To calculate the root mean squared error, use the function'root_mean_squared_error'.\n",
      "  warnings.warn(\n"
     ]
    }
   ],
   "execution_count": 94
  },
  {
   "metadata": {
    "ExecuteTime": {
     "end_time": "2025-05-04T07:05:19.610148Z",
     "start_time": "2025-05-04T07:05:19.606917Z"
    }
   },
   "cell_type": "code",
   "source": "X_train.shape",
   "id": "444ddf9acb2e9ff1",
   "outputs": [
    {
     "data": {
      "text/plain": [
       "(20000076, 24)"
      ]
     },
     "execution_count": 95,
     "metadata": {},
     "output_type": "execute_result"
    }
   ],
   "execution_count": 95
  },
  {
   "metadata": {},
   "cell_type": "markdown",
   "source": [
    "# Movie Search & Recommendation Interface  \n",
    "# Using KNN Cosine Metric for Directional Vectors"
   ],
   "id": "d1839ec055b80f56"
  },
  {
   "metadata": {
    "ExecuteTime": {
     "end_time": "2025-05-04T12:05:18.340340Z",
     "start_time": "2025-05-04T12:05:16.289090Z"
    }
   },
   "cell_type": "code",
   "source": [
    "import numpy as np\n",
    "from sklearn.neighbors import NearestNeighbors\n",
    "import joblib\n",
    "\n",
    "# Load DataSets\n",
    "movie_feats = train_df.drop(columns=['Unnamed: 0','userId','rating', 'user_last_rating_ts', 'user_last_rating_ordinal', 'user_rating_count','user_rating_mean','user_rating_var','user_rating_std'])\n",
    "\n",
    "movie_feats = movie_feats.drop_duplicates(subset = 'movieId').reset_index(drop = True)\n",
    " \n",
    "movies = pd.read_csv('../movies.csv')\n",
    "\n",
    "feature_cols = [\n",
    "    'movie_rating_count','movie_rating_mean','movie_rating_var','movie_rating_std',\n",
    "    'year','Action','Adventure','Animation','Children','Comedy','Crime',\n",
    "    'Documentary','Drama','Fantasy','Film-Noir','Horror','IMAX','Musical',\n",
    "    'Mystery','Romance','Sci-Fi','Thriller','War','Western'\n",
    "]"
   ],
   "id": "e97dbcbb5c73cd54",
   "outputs": [],
   "execution_count": 7
  },
  {
   "metadata": {
    "ExecuteTime": {
     "end_time": "2025-05-04T07:50:46.380015Z",
     "start_time": "2025-05-04T07:50:46.194738Z"
    }
   },
   "cell_type": "code",
   "source": [
    "X_movies = movie_feats[feature_cols].values\n",
    "\n",
    "# Fit NearestNeighbors on movie features (cosine similarity)\n",
    "nn = NearestNeighbors(n_neighbors = 11, metric = 'cosine', n_jobs = -1, algorithm = 'brute')\n",
    "nn.fit(X_movies)\n",
    "print('Model Trained....')"
   ],
   "id": "18c2c6aba9434133",
   "outputs": [
    {
     "name": "stdout",
     "output_type": "stream",
     "text": [
      "Model Trained....\n"
     ]
    }
   ],
   "execution_count": 120
  },
  {
   "metadata": {
    "ExecuteTime": {
     "end_time": "2025-05-04T07:56:49.205522Z",
     "start_time": "2025-05-04T07:56:49.195443Z"
    }
   },
   "cell_type": "code",
   "source": [
    "# Recommendation Function\n",
    "rating_model = joblib.load(\"xgb_rating_model.joblib\") # Load Rating Model\n",
    "\n",
    "# Recommend based on rating\n",
    "def recommend(movie_title, n_similar = 10, per_genre = 3):\n",
    "    # Lookup movieId\n",
    "    movie_row = movies[movies.title.str.contains(movie_title, regex = False)]\n",
    "    if movie_row.empty:\n",
    "        raise ValueError(f\"No Movie found matching '{movie_title}'\")\n",
    "    movie_id = movie_row.iloc[0].movieId\n",
    "    \n",
    "    # Predict Rating\n",
    "    mf = movie_feats[movie_feats.movieId == movie_id]\n",
    "    if mf.empty:\n",
    "        raise ValueError(f\"Features not found for movieId {movie_id}\")\n",
    "    Xq = mf[feature_cols]\n",
    "    pred_rating = rating_model.predict(Xq)[0]\n",
    "    \n",
    "    # Find similar movies KNN query\n",
    "    idx = movie_feats.index[movie_feats.movieId == movie_id][0]\n",
    "    distances, indices = nn.kneighbors(X_movies[idx].reshape(1, -1), n_neighbors = n_similar + 1)\n",
    "    \n",
    "    # Skip the first one (itself)\n",
    "    sim_ids = movie_feats.iloc[indices[0][1:]]['movieId'].values\n",
    "    sim_titles = movies[movies.movieId.isin(sim_ids)]['title'].tolist()\n",
    "    \n",
    "    # Genre-filtered suggestions\n",
    "    genres = movie_row.iloc[0].genres.split('|')\n",
    "    genres_suggestions = {}\n",
    "    for g in genres:\n",
    "        # find movie in same genre, sort by movie_rating_mean desc\n",
    "        candidates = movie_feats[movie_feats[g] == 1]\n",
    "        topn = candidates.sort_values('movie_rating_mean', ascending = False)\\\n",
    "                .movieId.head(per_genre).values\n",
    "        genres_suggestions[g] = movies[movies.movieId.isin(topn)]['title'].tolist()\n",
    "        \n",
    "    # Return all\n",
    "    return {\n",
    "        'input_movie': movie_row.iloc[0].title,\n",
    "        'predicted_rating': round(pred_rating, 2),\n",
    "        'similar_movies': sim_titles,\n",
    "        'by_genre': genres_suggestions\n",
    "    }"
   ],
   "id": "327fec8e5dc894c",
   "outputs": [],
   "execution_count": 125
  },
  {
   "metadata": {
    "ExecuteTime": {
     "end_time": "2025-05-04T08:16:50.435274Z",
     "start_time": "2025-05-04T08:16:50.359623Z"
    }
   },
   "cell_type": "code",
   "source": [
    "# Example Usage\n",
    "res = recommend(\"Alien\")\n",
    "print(\"Input Movie:\", res['input_movie'])\n",
    "print(\"Predicted Rating:\", res['predicted_rating'], \"★\")\n",
    "print(\"Similar Movies:\", res['similar_movies'])\n",
    "print(\"Genre‐based Suggestions:\")\n",
    "for genre, titles in res['by_genre'].items():\n",
    "    print(f\"  {genre}: {titles}\")"
   ],
   "id": "c61731747ed11df1",
   "outputs": [
    {
     "name": "stdout",
     "output_type": "stream",
     "text": [
      "Input Movie: Aliens (1986)\n",
      "Predicted Rating: 4.01 ★\n",
      "Similar Movies: ['Babe (1995)', 'Batman Forever (1995)', 'Dumb & Dumber (Dumb and Dumber) (1994)', 'Rock, The (1996)', 'American History X (1998)', 'Star Wars: Episode I - The Phantom Menace (1999)', 'Ghostbusters (a.k.a. Ghost Busters) (1984)', 'X-Men (2000)', \"Ocean's Eleven (2001)\", 'Beautiful Mind, A (2001)']\n",
      "Genre‐based Suggestions:\n",
      "  Action: [\"Tarzan's Savage Fury (1952)\", 'Temple of the White Elephant (1964)', 'To Be the Best (1993)']\n",
      "  Adventure: ['Bicycle Dreams (2009)', 'The Viking (1931)', 'Windstorm 2 (2015)']\n",
      "  Horror: ['Fractured (2015)', 'Dark Asylum (2001)', 'Von einem, der auszog, das Fürchten zu lernen (2014)']\n",
      "  Sci-Fi: ['Awaken (2013)', 'The Electric Grandmother (1982)', 'Pale (2016)']\n"
     ]
    }
   ],
   "execution_count": 134
  },
  {
   "metadata": {},
   "cell_type": "markdown",
   "source": [
    "# Using Surprise Module - For Training and Better Prediction  \n",
    "  \n",
    "# SVD and NearestNeighbors"
   ],
   "id": "c9dfb4f225847d64"
  },
  {
   "metadata": {
    "ExecuteTime": {
     "end_time": "2025-05-04T12:37:25.209355Z",
     "start_time": "2025-05-04T12:37:25.204711Z"
    }
   },
   "cell_type": "code",
   "source": [
    "import pandas as pd\n",
    "from surprise import Dataset, Reader, SVD\n",
    "from sklearn.neighbors import NearestNeighbors"
   ],
   "id": "7158882a8f22a461",
   "outputs": [],
   "execution_count": 18
  },
  {
   "metadata": {
    "ExecuteTime": {
     "end_time": "2025-05-04T13:26:33.441564Z",
     "start_time": "2025-05-04T13:22:48.044158Z"
    }
   },
   "cell_type": "code",
   "source": [
    "# -- 1. Load raw ratings (to learn latent factors) -------------------------\n",
    "ratings = pd.read_csv('../ratings.csv')[['userId','movieId','rating']]\n",
    "\n",
    "# Build Surprise dataset & train full SVD model\n",
    "reader = Reader(rating_scale = (0.5, 5.0))\n",
    "data = Dataset.load_from_df(ratings, reader)\n",
    "trainset = data.build_full_trainset()\n",
    "svd = SVD(n_factors=50, random_state=42)\n",
    "svd.fit(trainset)\n",
    "\n",
    "# -- 2. Extract movie‐factor matrix ---------------------------------------\n",
    "# svd.qi is shape (n_items, n_factors), aligned to trainset inner IDs\n",
    "# Map inner IDs → raw movieId, build DataFrame of latent vectors\n",
    "movie_inner_ids = list(trainset._raw2inner_id_items.keys())\n",
    "movie_ids = [int(trainset.to_raw_iid(i)) for i in range(len(movie_inner_ids))] \n",
    "\n",
    "latent_df = pd.DataFrame(\n",
    "    svd.qi, \n",
    "    index=movie_ids,  # raw movieId as index\n",
    ")\n",
    "latent_df.index.name = 'movieId'\n",
    "\n",
    "# -- 3. Fit NearestNeighbors on those latent vectors ----------------------\n",
    "nn_latent = NearestNeighbors(n_neighbors=11, metric='cosine', algorithm='brute')\n",
    "nn_latent.fit(latent_df.values)\n",
    "\n",
    "# -- 4. Load movie features & titles for “predicted rating” & genre lists -\n",
    "movie_feats = pd.read_csv('train.csv')[[\n",
    "    'movieId','movie_rating_mean'\n",
    "]]\n",
    "movies = pd.read_csv('../movies.csv')[['movieId','title','genres']]\n",
    "\n",
    "# Build lookups\n",
    "id_to_title = dict(zip(movies.movieId, movies.title))\n",
    "feat_mean = dict(zip(movie_feats.movieId, movie_feats.movie_rating_mean))"
   ],
   "id": "d880e14f56c274a6",
   "outputs": [],
   "execution_count": 33
  },
  {
   "metadata": {
    "ExecuteTime": {
     "end_time": "2025-05-04T12:53:48.209763Z",
     "start_time": "2025-05-04T12:53:48.204670Z"
    }
   },
   "cell_type": "code",
   "source": [
    "# -- 5. Recommendation function -------------------------------------------\n",
    "def recommend_hybrid(title, topn=10, per_genre=3):\n",
    "    # a) Find movieId\n",
    "    m = movies[movies.title == title]\n",
    "    if m.empty:\n",
    "        m = movies[movies.title.str.contains(title, regex=False)]\n",
    "    if m.empty:\n",
    "        raise ValueError(f\"No movie found matching '{title}'\")\n",
    "    mid = int(m.iloc[0].movieId)\n",
    "    \n",
    "    # b) Predicted rating = historical mean\n",
    "    pred = round(feat_mean.get(mid, 0), 2)\n",
    "    \n",
    "    # c) Find latent‐factor neighbors\n",
    "    #   - Lookup index in latent_df\n",
    "    if mid not in latent_df.index:\n",
    "        raise ValueError(f\"MovieId {mid} missing latent factors\")\n",
    "    vec = latent_df.loc[mid].values.reshape(1, -1)\n",
    "    dists, inds = nn_latent.kneighbors(vec, n_neighbors=topn+1)\n",
    "    \n",
    "    #   - Map back to movieIds, skip itself\n",
    "    all_ids = latent_df.index[inds[0]].tolist()\n",
    "    rec_ids = [i for i in all_ids if i != mid][:topn]\n",
    "    rec_titles = [id_to_title[i] for i in rec_ids]\n",
    "    \n",
    "    # d) Genre‐based top‐K by mean rating\n",
    "    genres = m.iloc[0].genres.split('|')\n",
    "    by_genre = {}\n",
    "    for g in genres:\n",
    "        # filter train.csv for this genre\n",
    "        mask = (pd.read_csv('train.csv')[g] == 1)  # inexpensive single‐column read\n",
    "        top_ids = pd.read_csv('train.csv')[['movieId','movie_rating_mean']][mask] \\\n",
    "                    .nlargest(per_genre, 'movie_rating_mean') \\\n",
    "                    .movieId.tolist()\n",
    "        by_genre[g] = [id_to_title[i] for i in top_ids]\n",
    "    \n",
    "    return {\n",
    "        'input_movie': title,\n",
    "        'predicted_rating': pred,\n",
    "        'similar_movies': rec_titles,\n",
    "        'by_genre': by_genre\n",
    "    }"
   ],
   "id": "5715cd8eff3f521c",
   "outputs": [],
   "execution_count": 21
  },
  {
   "metadata": {
    "ExecuteTime": {
     "end_time": "2025-05-04T12:58:04.070310Z",
     "start_time": "2025-05-04T12:55:08.424369Z"
    }
   },
   "cell_type": "code",
   "source": [
    "# -- 6. Example ------------------------------------------------------------\n",
    "res = recommend_hybrid(\"Iron Man (2008)\")\n",
    "print(\"Input Movie:\", res['input_movie'])\n",
    "print(\"Predicted Rating:\", res['predicted_rating'], \"★\")\n",
    "print(\"Similar Movies:\", res['similar_movies'])\n",
    "print(\"Genre‐based Suggestions:\")\n",
    "for g, lst in res['by_genre'].items():\n",
    "    print(f\"  {g}: {lst}\")"
   ],
   "id": "ad3896dcf1b4cd38",
   "outputs": [
    {
     "name": "stdout",
     "output_type": "stream",
     "text": [
      "Input Movie: Iron Man (2008)\n",
      "Predicted Rating: 3.83 ★\n",
      "Similar Movies: ['Avengers, The (2012)', 'Captain America: The Winter Soldier (2014)', 'Captain America: The First Avenger (2011)', 'Captain America: Civil War (2016)', 'Thor (2011)', 'X-Men: First Class (2011)', 'Iron Man 2 (2010)', 'Avengers: Age of Ultron (2015)', 'Iron Man 3 (2013)', 'Ant-Man (2015)']\n",
      "Genre‐based Suggestions:\n",
      "  Action: ['To Be the Best (1993)', 'FB: Fighting Beat (2007)', 'Day of the Panther (1988)']\n",
      "  Adventure: ['Bicycle Dreams (2009)', 'Colossus of the Arena (1962)', \"Tarzan's Fight for Life (1958)\"]\n",
      "  Sci-Fi: ['Awaken (2013)', 'Pale (2016)', 'Awaken (2013)']\n"
     ]
    }
   ],
   "execution_count": 23
  },
  {
   "metadata": {
    "ExecuteTime": {
     "end_time": "2025-05-04T12:59:36.452976Z",
     "start_time": "2025-05-04T12:58:04.072318Z"
    }
   },
   "cell_type": "code",
   "source": [
    "res = recommend_hybrid(\"Avatar\")\n",
    "print(\"Input Movie:\", res['input_movie'])\n",
    "print(\"Predicted Rating:\", res['predicted_rating'], \"★\")\n",
    "print(\"Similar Movies:\", res['similar_movies'])\n",
    "print(\"Genre‐based Suggestions:\")\n",
    "for g, lst in res['by_genre'].items():\n",
    "    print(f\"  {g}: {lst}\")"
   ],
   "id": "8390ebd6053357f2",
   "outputs": [
    {
     "ename": "ParserError",
     "evalue": "Error tokenizing data. C error: Calling read(nbytes) on source failed. Try engine='python'.",
     "output_type": "error",
     "traceback": [
      "\u001B[0;31m---------------------------------------------------------------------------\u001B[0m",
      "\u001B[0;31mParserError\u001B[0m                               Traceback (most recent call last)",
      "Cell \u001B[0;32mIn[24], line 1\u001B[0m\n\u001B[0;32m----> 1\u001B[0m res \u001B[38;5;241m=\u001B[39m recommend_hybrid(\u001B[38;5;124m\"\u001B[39m\u001B[38;5;124mAvatar\u001B[39m\u001B[38;5;124m\"\u001B[39m)\n\u001B[1;32m      2\u001B[0m \u001B[38;5;28mprint\u001B[39m(\u001B[38;5;124m\"\u001B[39m\u001B[38;5;124mInput Movie:\u001B[39m\u001B[38;5;124m\"\u001B[39m, res[\u001B[38;5;124m'\u001B[39m\u001B[38;5;124minput_movie\u001B[39m\u001B[38;5;124m'\u001B[39m])\n\u001B[1;32m      3\u001B[0m \u001B[38;5;28mprint\u001B[39m(\u001B[38;5;124m\"\u001B[39m\u001B[38;5;124mPredicted Rating:\u001B[39m\u001B[38;5;124m\"\u001B[39m, res[\u001B[38;5;124m'\u001B[39m\u001B[38;5;124mpredicted_rating\u001B[39m\u001B[38;5;124m'\u001B[39m], \u001B[38;5;124m\"\u001B[39m\u001B[38;5;124m★\u001B[39m\u001B[38;5;124m\"\u001B[39m)\n",
      "Cell \u001B[0;32mIn[21], line 32\u001B[0m, in \u001B[0;36mrecommend_hybrid\u001B[0;34m(title, topn, per_genre)\u001B[0m\n\u001B[1;32m     29\u001B[0m \u001B[38;5;28;01mfor\u001B[39;00m g \u001B[38;5;129;01min\u001B[39;00m genres:\n\u001B[1;32m     30\u001B[0m     \u001B[38;5;66;03m# filter train.csv for this genre\u001B[39;00m\n\u001B[1;32m     31\u001B[0m     mask \u001B[38;5;241m=\u001B[39m (pd\u001B[38;5;241m.\u001B[39mread_csv(\u001B[38;5;124m'\u001B[39m\u001B[38;5;124mtrain.csv\u001B[39m\u001B[38;5;124m'\u001B[39m)[g] \u001B[38;5;241m==\u001B[39m \u001B[38;5;241m1\u001B[39m)  \u001B[38;5;66;03m# inexpensive single‐column read\u001B[39;00m\n\u001B[0;32m---> 32\u001B[0m     top_ids \u001B[38;5;241m=\u001B[39m pd\u001B[38;5;241m.\u001B[39mread_csv(\u001B[38;5;124m'\u001B[39m\u001B[38;5;124mtrain.csv\u001B[39m\u001B[38;5;124m'\u001B[39m)[[\u001B[38;5;124m'\u001B[39m\u001B[38;5;124mmovieId\u001B[39m\u001B[38;5;124m'\u001B[39m,\u001B[38;5;124m'\u001B[39m\u001B[38;5;124mmovie_rating_mean\u001B[39m\u001B[38;5;124m'\u001B[39m]][mask] \\\n\u001B[1;32m     33\u001B[0m                 \u001B[38;5;241m.\u001B[39mnlargest(per_genre, \u001B[38;5;124m'\u001B[39m\u001B[38;5;124mmovie_rating_mean\u001B[39m\u001B[38;5;124m'\u001B[39m) \\\n\u001B[1;32m     34\u001B[0m                 \u001B[38;5;241m.\u001B[39mmovieId\u001B[38;5;241m.\u001B[39mtolist()\n\u001B[1;32m     35\u001B[0m     by_genre[g] \u001B[38;5;241m=\u001B[39m [id_to_title[i] \u001B[38;5;28;01mfor\u001B[39;00m i \u001B[38;5;129;01min\u001B[39;00m top_ids]\n\u001B[1;32m     37\u001B[0m \u001B[38;5;28;01mreturn\u001B[39;00m {\n\u001B[1;32m     38\u001B[0m     \u001B[38;5;124m'\u001B[39m\u001B[38;5;124minput_movie\u001B[39m\u001B[38;5;124m'\u001B[39m: title,\n\u001B[1;32m     39\u001B[0m     \u001B[38;5;124m'\u001B[39m\u001B[38;5;124mpredicted_rating\u001B[39m\u001B[38;5;124m'\u001B[39m: pred,\n\u001B[1;32m     40\u001B[0m     \u001B[38;5;124m'\u001B[39m\u001B[38;5;124msimilar_movies\u001B[39m\u001B[38;5;124m'\u001B[39m: rec_titles,\n\u001B[1;32m     41\u001B[0m     \u001B[38;5;124m'\u001B[39m\u001B[38;5;124mby_genre\u001B[39m\u001B[38;5;124m'\u001B[39m: by_genre\n\u001B[1;32m     42\u001B[0m }\n",
      "File \u001B[0;32m/opt/anaconda3/lib/python3.11/site-packages/pandas/io/parsers/readers.py:948\u001B[0m, in \u001B[0;36mread_csv\u001B[0;34m(filepath_or_buffer, sep, delimiter, header, names, index_col, usecols, dtype, engine, converters, true_values, false_values, skipinitialspace, skiprows, skipfooter, nrows, na_values, keep_default_na, na_filter, verbose, skip_blank_lines, parse_dates, infer_datetime_format, keep_date_col, date_parser, date_format, dayfirst, cache_dates, iterator, chunksize, compression, thousands, decimal, lineterminator, quotechar, quoting, doublequote, escapechar, comment, encoding, encoding_errors, dialect, on_bad_lines, delim_whitespace, low_memory, memory_map, float_precision, storage_options, dtype_backend)\u001B[0m\n\u001B[1;32m    935\u001B[0m kwds_defaults \u001B[38;5;241m=\u001B[39m _refine_defaults_read(\n\u001B[1;32m    936\u001B[0m     dialect,\n\u001B[1;32m    937\u001B[0m     delimiter,\n\u001B[0;32m   (...)\u001B[0m\n\u001B[1;32m    944\u001B[0m     dtype_backend\u001B[38;5;241m=\u001B[39mdtype_backend,\n\u001B[1;32m    945\u001B[0m )\n\u001B[1;32m    946\u001B[0m kwds\u001B[38;5;241m.\u001B[39mupdate(kwds_defaults)\n\u001B[0;32m--> 948\u001B[0m \u001B[38;5;28;01mreturn\u001B[39;00m _read(filepath_or_buffer, kwds)\n",
      "File \u001B[0;32m/opt/anaconda3/lib/python3.11/site-packages/pandas/io/parsers/readers.py:617\u001B[0m, in \u001B[0;36m_read\u001B[0;34m(filepath_or_buffer, kwds)\u001B[0m\n\u001B[1;32m    614\u001B[0m     \u001B[38;5;28;01mreturn\u001B[39;00m parser\n\u001B[1;32m    616\u001B[0m \u001B[38;5;28;01mwith\u001B[39;00m parser:\n\u001B[0;32m--> 617\u001B[0m     \u001B[38;5;28;01mreturn\u001B[39;00m parser\u001B[38;5;241m.\u001B[39mread(nrows)\n",
      "File \u001B[0;32m/opt/anaconda3/lib/python3.11/site-packages/pandas/io/parsers/readers.py:1748\u001B[0m, in \u001B[0;36mTextFileReader.read\u001B[0;34m(self, nrows)\u001B[0m\n\u001B[1;32m   1741\u001B[0m nrows \u001B[38;5;241m=\u001B[39m validate_integer(\u001B[38;5;124m\"\u001B[39m\u001B[38;5;124mnrows\u001B[39m\u001B[38;5;124m\"\u001B[39m, nrows)\n\u001B[1;32m   1742\u001B[0m \u001B[38;5;28;01mtry\u001B[39;00m:\n\u001B[1;32m   1743\u001B[0m     \u001B[38;5;66;03m# error: \"ParserBase\" has no attribute \"read\"\u001B[39;00m\n\u001B[1;32m   1744\u001B[0m     (\n\u001B[1;32m   1745\u001B[0m         index,\n\u001B[1;32m   1746\u001B[0m         columns,\n\u001B[1;32m   1747\u001B[0m         col_dict,\n\u001B[0;32m-> 1748\u001B[0m     ) \u001B[38;5;241m=\u001B[39m \u001B[38;5;28mself\u001B[39m\u001B[38;5;241m.\u001B[39m_engine\u001B[38;5;241m.\u001B[39mread(  \u001B[38;5;66;03m# type: ignore[attr-defined]\u001B[39;00m\n\u001B[1;32m   1749\u001B[0m         nrows\n\u001B[1;32m   1750\u001B[0m     )\n\u001B[1;32m   1751\u001B[0m \u001B[38;5;28;01mexcept\u001B[39;00m \u001B[38;5;167;01mException\u001B[39;00m:\n\u001B[1;32m   1752\u001B[0m     \u001B[38;5;28mself\u001B[39m\u001B[38;5;241m.\u001B[39mclose()\n",
      "File \u001B[0;32m/opt/anaconda3/lib/python3.11/site-packages/pandas/io/parsers/c_parser_wrapper.py:234\u001B[0m, in \u001B[0;36mCParserWrapper.read\u001B[0;34m(self, nrows)\u001B[0m\n\u001B[1;32m    232\u001B[0m \u001B[38;5;28;01mtry\u001B[39;00m:\n\u001B[1;32m    233\u001B[0m     \u001B[38;5;28;01mif\u001B[39;00m \u001B[38;5;28mself\u001B[39m\u001B[38;5;241m.\u001B[39mlow_memory:\n\u001B[0;32m--> 234\u001B[0m         chunks \u001B[38;5;241m=\u001B[39m \u001B[38;5;28mself\u001B[39m\u001B[38;5;241m.\u001B[39m_reader\u001B[38;5;241m.\u001B[39mread_low_memory(nrows)\n\u001B[1;32m    235\u001B[0m         \u001B[38;5;66;03m# destructive to chunks\u001B[39;00m\n\u001B[1;32m    236\u001B[0m         data \u001B[38;5;241m=\u001B[39m _concatenate_chunks(chunks)\n",
      "File \u001B[0;32mparsers.pyx:843\u001B[0m, in \u001B[0;36mpandas._libs.parsers.TextReader.read_low_memory\u001B[0;34m()\u001B[0m\n",
      "File \u001B[0;32mparsers.pyx:904\u001B[0m, in \u001B[0;36mpandas._libs.parsers.TextReader._read_rows\u001B[0;34m()\u001B[0m\n",
      "File \u001B[0;32mparsers.pyx:879\u001B[0m, in \u001B[0;36mpandas._libs.parsers.TextReader._tokenize_rows\u001B[0;34m()\u001B[0m\n",
      "File \u001B[0;32mparsers.pyx:890\u001B[0m, in \u001B[0;36mpandas._libs.parsers.TextReader._check_tokenize_status\u001B[0;34m()\u001B[0m\n",
      "File \u001B[0;32mparsers.pyx:2058\u001B[0m, in \u001B[0;36mpandas._libs.parsers.raise_parser_error\u001B[0;34m()\u001B[0m\n",
      "\u001B[0;31mParserError\u001B[0m: Error tokenizing data. C error: Calling read(nbytes) on source failed. Try engine='python'."
     ]
    }
   ],
   "execution_count": 24
  },
  {
   "metadata": {
    "ExecuteTime": {
     "end_time": "2025-05-04T12:59:41.750819Z",
     "start_time": "2025-05-04T12:59:41.735270Z"
    }
   },
   "cell_type": "code",
   "source": "ratings.head()",
   "id": "ecce4b71fcefc7ac",
   "outputs": [
    {
     "data": {
      "text/plain": [
       "   userId  movieId  rating\n",
       "0       1      296     5.0\n",
       "1       1      306     3.5\n",
       "2       1      307     5.0\n",
       "3       1      665     5.0\n",
       "4       1      899     3.5"
      ],
      "text/html": [
       "<div>\n",
       "<style scoped>\n",
       "    .dataframe tbody tr th:only-of-type {\n",
       "        vertical-align: middle;\n",
       "    }\n",
       "\n",
       "    .dataframe tbody tr th {\n",
       "        vertical-align: top;\n",
       "    }\n",
       "\n",
       "    .dataframe thead th {\n",
       "        text-align: right;\n",
       "    }\n",
       "</style>\n",
       "<table border=\"1\" class=\"dataframe\">\n",
       "  <thead>\n",
       "    <tr style=\"text-align: right;\">\n",
       "      <th></th>\n",
       "      <th>userId</th>\n",
       "      <th>movieId</th>\n",
       "      <th>rating</th>\n",
       "    </tr>\n",
       "  </thead>\n",
       "  <tbody>\n",
       "    <tr>\n",
       "      <th>0</th>\n",
       "      <td>1</td>\n",
       "      <td>296</td>\n",
       "      <td>5.0</td>\n",
       "    </tr>\n",
       "    <tr>\n",
       "      <th>1</th>\n",
       "      <td>1</td>\n",
       "      <td>306</td>\n",
       "      <td>3.5</td>\n",
       "    </tr>\n",
       "    <tr>\n",
       "      <th>2</th>\n",
       "      <td>1</td>\n",
       "      <td>307</td>\n",
       "      <td>5.0</td>\n",
       "    </tr>\n",
       "    <tr>\n",
       "      <th>3</th>\n",
       "      <td>1</td>\n",
       "      <td>665</td>\n",
       "      <td>5.0</td>\n",
       "    </tr>\n",
       "    <tr>\n",
       "      <th>4</th>\n",
       "      <td>1</td>\n",
       "      <td>899</td>\n",
       "      <td>3.5</td>\n",
       "    </tr>\n",
       "  </tbody>\n",
       "</table>\n",
       "</div>"
      ]
     },
     "execution_count": 25,
     "metadata": {},
     "output_type": "execute_result"
    }
   ],
   "execution_count": 25
  },
  {
   "metadata": {
    "ExecuteTime": {
     "end_time": "2025-05-04T13:01:52.015717Z",
     "start_time": "2025-05-04T13:01:52.012744Z"
    }
   },
   "cell_type": "code",
   "source": "trainset",
   "id": "229d034626606c9e",
   "outputs": [
    {
     "data": {
      "text/plain": [
       "<surprise.trainset.Trainset at 0x67a96ced0>"
      ]
     },
     "execution_count": 27,
     "metadata": {},
     "output_type": "execute_result"
    }
   ],
   "execution_count": 27
  },
  {
   "metadata": {
    "ExecuteTime": {
     "end_time": "2025-05-04T13:32:18.655605Z",
     "start_time": "2025-05-04T13:26:33.454260Z"
    }
   },
   "cell_type": "code",
   "source": [
    "joblib.dump(svd, 'svd_model.joblib')\n",
    "joblib.dump(nn_latent, 'nn_latent.joblib')\n",
    "latent_df.to_pickle('latent_df.pkl')"
   ],
   "id": "db766f54e1d9736c",
   "outputs": [],
   "execution_count": 34
  },
  {
   "metadata": {
    "ExecuteTime": {
     "end_time": "2025-05-04T14:06:37.184973Z",
     "start_time": "2025-05-04T14:05:02.510598Z"
    }
   },
   "cell_type": "code",
   "source": [
    "movie_titles = pd.read_csv('../movies.csv')\n",
    "movie_titles = movie_titles[['movieId', 'title']]\n",
    "data = pd.concat([X_train, X_test], ignore_index = True)\n",
    "data = data.merge(movie_titles, on = 'movieId')\n",
    "data.to_csv('movie_feats.csv', index = False)\n",
    "print('Exported.........')"
   ],
   "id": "7b9218c05f2352d8",
   "outputs": [
    {
     "name": "stdout",
     "output_type": "stream",
     "text": [
      "Exported.........\n"
     ]
    }
   ],
   "execution_count": 53
  },
  {
   "metadata": {},
   "cell_type": "code",
   "outputs": [],
   "execution_count": null,
   "source": [
    "from surprise import Dataset, Reader, SVD\n",
    "from surprise.model_selection import GridSearchCV\n",
    "\n",
    "# Prepare Surprise data\n",
    "ratings = pd.read_csv('ratings.csv')[['userId','movieId','rating']]\n",
    "reader = Reader(rating_scale=(0.5, 5.0))\n",
    "data = Dataset.load_from_df(ratings, reader)\n",
    "\n",
    "# Define parameter grid for SVD\n",
    "param_grid = {\n",
    "    'n_factors': [20, 50, 100],\n",
    "    'n_epochs': [20, 30],\n",
    "    'lr_all': [0.002, 0.005],\n",
    "    'reg_all': [0.02, 0.05]\n",
    "}\n",
    "\n",
    "# Grid search\n",
    "GS = GridSearchCV(\n",
    "    SVD,\n",
    "    param_grid,\n",
    "    measures=['rmse', 'mae'],\n",
    "    cv=3,\n",
    "    n_jobs=-1\n",
    ")\n",
    "GS.fit(data)\n",
    "\n",
    "# Best parameters\n",
    "print(GS.best_params['rmse'])\n",
    "print(GS.best_score['rmse'])"
   ],
   "id": "dc83d80cfb389982"
  },
  {
   "metadata": {
    "ExecuteTime": {
     "end_time": "2025-05-04T14:14:45.225592Z",
     "start_time": "2025-05-04T14:12:23.449303Z"
    }
   },
   "cell_type": "code",
   "source": [
    "import polars as pl\n",
    "import joblib\n",
    "import pandas as pd  # Needed for SVD model, nn, and latent_df.pkl\n",
    "from sklearn.neighbors import NearestNeighbors\n",
    "\n",
    "# --- Load models and data ---\n",
    "svd_model = joblib.load('svd_model.joblib')\n",
    "nn_latent = joblib.load('nn_latent.joblib')\n",
    "latent_df = pd.read_pickle('latent_df.pkl')\n",
    "movie_feats = pl.read_csv('../movies.csv')\n",
    "\n",
    "# --- Build lookups ---\n",
    "movies = movie_feats.select(['movieId', 'title', 'genres']).unique()\n",
    "id_to_title = dict(zip(movies['movieId'].to_list(), movies['title'].to_list()))\n",
    "feat_mean = dict(zip(movie_feats['movieId'].to_list(), movie_feats['movie_rating_mean'].to_list()))\n",
    "\n",
    "# --- Recommendation function ---\n",
    "def recommend_hybrid(title, topn=10, per_genre=3):\n",
    "    # a) Find movieId\n",
    "    m = movies.filter(pl.col(\"title\") == title)\n",
    "    if m.is_empty():\n",
    "        m = movies.filter(pl.col(\"title\").str.contains(title))\n",
    "    if m.is_empty():\n",
    "        raise ValueError(f\"No movie found matching '{title}'\")\n",
    "    mid = m[0, \"movieId\"]\n",
    "    \n",
    "    # b) Predicted rating = historical mean\n",
    "    pred = round(feat_mean.get(mid, 0), 2)\n",
    "    \n",
    "    # c) Find latent‐factor neighbors\n",
    "    if mid not in latent_df.index:\n",
    "        raise ValueError(f\"MovieId {mid} missing latent factors\")\n",
    "    vec = latent_df.loc[mid].values.reshape(1, -1)\n",
    "    dists, inds = nn_latent.kneighbors(vec, n_neighbors=topn+1)\n",
    "    \n",
    "    all_ids = latent_df.index[inds[0]].tolist()\n",
    "    rec_ids = [i for i in all_ids if i != mid][:topn]\n",
    "    rec_titles = [id_to_title[i] for i in rec_ids]\n",
    "    \n",
    "    # d) Genre-based top-K by mean rating\n",
    "    genres = m[0, \"genres\"].split('|')\n",
    "    by_genre = {}\n",
    "    for g in genres:\n",
    "        if g not in movie_feats.columns:\n",
    "            continue  # skip unknown genres\n",
    "        top_ids = movie_feats.filter(pl.col(g) == 1) \\\n",
    "            .select(['movieId', 'movie_rating_mean']) \\\n",
    "            .sort('movie_rating_mean', descending=True) \\\n",
    "            .head(per_genre)['movieId'].to_list()\n",
    "        by_genre[g] = [id_to_title[i] for i in top_ids if i in id_to_title]\n",
    "    \n",
    "    return {\n",
    "        'input_movie': title,\n",
    "        'predicted_rating': pred,\n",
    "        'similar_movies': rec_titles,\n",
    "        'by_genre': by_genre\n",
    "    }"
   ],
   "id": "2fa292b334c40662",
   "outputs": [
    {
     "ename": "ColumnNotFoundError",
     "evalue": "\"movie_rating_mean\" not found",
     "output_type": "error",
     "traceback": [
      "\u001B[0;31m---------------------------------------------------------------------------\u001B[0m",
      "\u001B[0;31mColumnNotFoundError\u001B[0m                       Traceback (most recent call last)",
      "\u001B[0;32m/var/folders/xt/dsl_68w51jzftxq18_hpfkhm0000gn/T/ipykernel_78540/2464296715.py\u001B[0m in \u001B[0;36m?\u001B[0;34m()\u001B[0m\n\u001B[1;32m     11\u001B[0m \u001B[0;34m\u001B[0m\u001B[0m\n\u001B[1;32m     12\u001B[0m \u001B[0;31m# --- Build lookups ---\u001B[0m\u001B[0;34m\u001B[0m\u001B[0;34m\u001B[0m\u001B[0m\n\u001B[1;32m     13\u001B[0m \u001B[0mmovies\u001B[0m \u001B[0;34m=\u001B[0m \u001B[0mmovie_feats\u001B[0m\u001B[0;34m.\u001B[0m\u001B[0mselect\u001B[0m\u001B[0;34m(\u001B[0m\u001B[0;34m[\u001B[0m\u001B[0;34m'movieId'\u001B[0m\u001B[0;34m,\u001B[0m \u001B[0;34m'title'\u001B[0m\u001B[0;34m,\u001B[0m \u001B[0;34m'genres'\u001B[0m\u001B[0;34m]\u001B[0m\u001B[0;34m)\u001B[0m\u001B[0;34m.\u001B[0m\u001B[0munique\u001B[0m\u001B[0;34m(\u001B[0m\u001B[0;34m)\u001B[0m\u001B[0;34m\u001B[0m\u001B[0;34m\u001B[0m\u001B[0m\n\u001B[1;32m     14\u001B[0m \u001B[0mid_to_title\u001B[0m \u001B[0;34m=\u001B[0m \u001B[0mdict\u001B[0m\u001B[0;34m(\u001B[0m\u001B[0mzip\u001B[0m\u001B[0;34m(\u001B[0m\u001B[0mmovies\u001B[0m\u001B[0;34m[\u001B[0m\u001B[0;34m'movieId'\u001B[0m\u001B[0;34m]\u001B[0m\u001B[0;34m.\u001B[0m\u001B[0mto_list\u001B[0m\u001B[0;34m(\u001B[0m\u001B[0;34m)\u001B[0m\u001B[0;34m,\u001B[0m \u001B[0mmovies\u001B[0m\u001B[0;34m[\u001B[0m\u001B[0;34m'title'\u001B[0m\u001B[0;34m]\u001B[0m\u001B[0;34m.\u001B[0m\u001B[0mto_list\u001B[0m\u001B[0;34m(\u001B[0m\u001B[0;34m)\u001B[0m\u001B[0;34m)\u001B[0m\u001B[0;34m)\u001B[0m\u001B[0;34m\u001B[0m\u001B[0;34m\u001B[0m\u001B[0m\n\u001B[0;32m---> 15\u001B[0;31m \u001B[0mfeat_mean\u001B[0m \u001B[0;34m=\u001B[0m \u001B[0mdict\u001B[0m\u001B[0;34m(\u001B[0m\u001B[0mzip\u001B[0m\u001B[0;34m(\u001B[0m\u001B[0mmovie_feats\u001B[0m\u001B[0;34m[\u001B[0m\u001B[0;34m'movieId'\u001B[0m\u001B[0;34m]\u001B[0m\u001B[0;34m.\u001B[0m\u001B[0mto_list\u001B[0m\u001B[0;34m(\u001B[0m\u001B[0;34m)\u001B[0m\u001B[0;34m,\u001B[0m \u001B[0mmovie_feats\u001B[0m\u001B[0;34m[\u001B[0m\u001B[0;34m'movie_rating_mean'\u001B[0m\u001B[0;34m]\u001B[0m\u001B[0;34m.\u001B[0m\u001B[0mto_list\u001B[0m\u001B[0;34m(\u001B[0m\u001B[0;34m)\u001B[0m\u001B[0;34m)\u001B[0m\u001B[0;34m)\u001B[0m\u001B[0;34m\u001B[0m\u001B[0;34m\u001B[0m\u001B[0m\n\u001B[0m\u001B[1;32m     16\u001B[0m \u001B[0;34m\u001B[0m\u001B[0m\n\u001B[1;32m     17\u001B[0m \u001B[0;31m# --- Recommendation function ---\u001B[0m\u001B[0;34m\u001B[0m\u001B[0;34m\u001B[0m\u001B[0m\n\u001B[1;32m     18\u001B[0m \u001B[0;32mdef\u001B[0m \u001B[0mrecommend_hybrid\u001B[0m\u001B[0;34m(\u001B[0m\u001B[0mtitle\u001B[0m\u001B[0;34m,\u001B[0m \u001B[0mtopn\u001B[0m\u001B[0;34m=\u001B[0m\u001B[0;36m10\u001B[0m\u001B[0;34m,\u001B[0m \u001B[0mper_genre\u001B[0m\u001B[0;34m=\u001B[0m\u001B[0;36m3\u001B[0m\u001B[0;34m)\u001B[0m\u001B[0;34m:\u001B[0m\u001B[0;34m\u001B[0m\u001B[0;34m\u001B[0m\u001B[0m\n",
      "\u001B[0;32m/opt/anaconda3/lib/python3.11/site-packages/polars/dataframe/frame.py\u001B[0m in \u001B[0;36m?\u001B[0;34m(self, key)\u001B[0m\n\u001B[1;32m   1359\u001B[0m         \u001B[0;31m│\u001B[0m \u001B[0;36m2\u001B[0m\u001B[0;31m \u001B[0m\u001B[0;31m \u001B[0m\u001B[0;31m \u001B[0m\u001B[0;31m┆\u001B[0m \u001B[0;36m5\u001B[0m\u001B[0;31m \u001B[0m\u001B[0;31m \u001B[0m\u001B[0;31m \u001B[0m\u001B[0;31m┆\u001B[0m \u001B[0;36m3\u001B[0m\u001B[0;31m \u001B[0m\u001B[0;31m \u001B[0m\u001B[0;31m \u001B[0m\u001B[0;31m│\u001B[0m\u001B[0;34m\u001B[0m\u001B[0;34m\u001B[0m\u001B[0m\n\u001B[1;32m   1360\u001B[0m         \u001B[0;31m│\u001B[0m \u001B[0;36m3\u001B[0m\u001B[0;31m \u001B[0m\u001B[0;31m \u001B[0m\u001B[0;31m \u001B[0m\u001B[0;31m┆\u001B[0m \u001B[0;36m6\u001B[0m\u001B[0;31m \u001B[0m\u001B[0;31m \u001B[0m\u001B[0;31m \u001B[0m\u001B[0;31m┆\u001B[0m \u001B[0;36m2\u001B[0m\u001B[0;31m \u001B[0m\u001B[0;31m \u001B[0m\u001B[0;31m \u001B[0m\u001B[0;31m│\u001B[0m\u001B[0;34m\u001B[0m\u001B[0;34m\u001B[0m\u001B[0m\n\u001B[1;32m   1361\u001B[0m         \u001B[0;31m└\u001B[0m\u001B[0;31m─\u001B[0m\u001B[0;31m─\u001B[0m\u001B[0;31m─\u001B[0m\u001B[0;31m─\u001B[0m\u001B[0;31m─\u001B[0m\u001B[0;31m┴\u001B[0m\u001B[0;31m─\u001B[0m\u001B[0;31m─\u001B[0m\u001B[0;31m─\u001B[0m\u001B[0;31m─\u001B[0m\u001B[0;31m─\u001B[0m\u001B[0;31m┴\u001B[0m\u001B[0;31m─\u001B[0m\u001B[0;31m─\u001B[0m\u001B[0;31m─\u001B[0m\u001B[0;31m─\u001B[0m\u001B[0;31m─\u001B[0m\u001B[0;31m┘\u001B[0m\u001B[0;34m\u001B[0m\u001B[0;34m\u001B[0m\u001B[0m\n\u001B[1;32m   1362\u001B[0m         \"\"\"\n\u001B[0;32m-> 1363\u001B[0;31m         \u001B[0;32mreturn\u001B[0m \u001B[0mget_df_item_by_key\u001B[0m\u001B[0;34m(\u001B[0m\u001B[0mself\u001B[0m\u001B[0;34m,\u001B[0m \u001B[0mkey\u001B[0m\u001B[0;34m)\u001B[0m\u001B[0;34m\u001B[0m\u001B[0;34m\u001B[0m\u001B[0m\n\u001B[0m",
      "\u001B[0;32m/opt/anaconda3/lib/python3.11/site-packages/polars/_utils/getitem.py\u001B[0m in \u001B[0;36m?\u001B[0;34m(df, key)\u001B[0m\n\u001B[1;32m    159\u001B[0m     \u001B[0;31m# Single string input, e.g. df[\"a\"]\u001B[0m\u001B[0;34m\u001B[0m\u001B[0;34m\u001B[0m\u001B[0m\n\u001B[1;32m    160\u001B[0m     \u001B[0;32mif\u001B[0m \u001B[0misinstance\u001B[0m\u001B[0;34m(\u001B[0m\u001B[0mkey\u001B[0m\u001B[0;34m,\u001B[0m \u001B[0mstr\u001B[0m\u001B[0;34m)\u001B[0m\u001B[0;34m:\u001B[0m\u001B[0;34m\u001B[0m\u001B[0;34m\u001B[0m\u001B[0m\n\u001B[1;32m    161\u001B[0m         \u001B[0;31m# This case is required because empty strings are otherwise treated\u001B[0m\u001B[0;34m\u001B[0m\u001B[0;34m\u001B[0m\u001B[0m\n\u001B[1;32m    162\u001B[0m         \u001B[0;31m# as an empty Sequence in `_select_rows`\u001B[0m\u001B[0;34m\u001B[0m\u001B[0;34m\u001B[0m\u001B[0m\n\u001B[0;32m--> 163\u001B[0;31m         \u001B[0;32mreturn\u001B[0m \u001B[0mdf\u001B[0m\u001B[0;34m.\u001B[0m\u001B[0mget_column\u001B[0m\u001B[0;34m(\u001B[0m\u001B[0mkey\u001B[0m\u001B[0;34m)\u001B[0m\u001B[0;34m\u001B[0m\u001B[0;34m\u001B[0m\u001B[0m\n\u001B[0m\u001B[1;32m    164\u001B[0m \u001B[0;34m\u001B[0m\u001B[0m\n\u001B[1;32m    165\u001B[0m     \u001B[0;31m# Single input - df[1] - or multiple inputs - df[\"a\", \"b\", \"c\"]\u001B[0m\u001B[0;34m\u001B[0m\u001B[0;34m\u001B[0m\u001B[0m\n\u001B[1;32m    166\u001B[0m     \u001B[0;32mtry\u001B[0m\u001B[0;34m:\u001B[0m\u001B[0;34m\u001B[0m\u001B[0;34m\u001B[0m\u001B[0m\n",
      "\u001B[0;32m/opt/anaconda3/lib/python3.11/site-packages/polars/dataframe/frame.py\u001B[0m in \u001B[0;36m?\u001B[0;34m(self, name, default)\u001B[0m\n\u001B[1;32m   8523\u001B[0m         \u001B[0;32mtry\u001B[0m\u001B[0;34m:\u001B[0m\u001B[0;34m\u001B[0m\u001B[0;34m\u001B[0m\u001B[0m\n\u001B[1;32m   8524\u001B[0m             \u001B[0;32mreturn\u001B[0m \u001B[0mwrap_s\u001B[0m\u001B[0;34m(\u001B[0m\u001B[0mself\u001B[0m\u001B[0;34m.\u001B[0m\u001B[0m_df\u001B[0m\u001B[0;34m.\u001B[0m\u001B[0mget_column\u001B[0m\u001B[0;34m(\u001B[0m\u001B[0mname\u001B[0m\u001B[0;34m)\u001B[0m\u001B[0;34m)\u001B[0m\u001B[0;34m\u001B[0m\u001B[0;34m\u001B[0m\u001B[0m\n\u001B[1;32m   8525\u001B[0m         \u001B[0;32mexcept\u001B[0m \u001B[0mColumnNotFoundError\u001B[0m\u001B[0;34m:\u001B[0m\u001B[0;34m\u001B[0m\u001B[0;34m\u001B[0m\u001B[0m\n\u001B[1;32m   8526\u001B[0m             \u001B[0;32mif\u001B[0m \u001B[0mdefault\u001B[0m \u001B[0;32mis\u001B[0m \u001B[0mno_default\u001B[0m\u001B[0;34m:\u001B[0m\u001B[0;34m\u001B[0m\u001B[0;34m\u001B[0m\u001B[0m\n\u001B[0;32m-> 8527\u001B[0;31m                 \u001B[0;32mraise\u001B[0m\u001B[0;34m\u001B[0m\u001B[0;34m\u001B[0m\u001B[0m\n\u001B[0m\u001B[1;32m   8528\u001B[0m             \u001B[0;32mreturn\u001B[0m \u001B[0mdefault\u001B[0m\u001B[0;34m\u001B[0m\u001B[0;34m\u001B[0m\u001B[0m\n",
      "\u001B[0;31mColumnNotFoundError\u001B[0m: \"movie_rating_mean\" not found"
     ]
    }
   ],
   "execution_count": 58
  },
  {
   "metadata": {
    "ExecuteTime": {
     "end_time": "2025-05-04T14:07:23.572944Z",
     "start_time": "2025-05-04T14:07:17.844990Z"
    }
   },
   "cell_type": "code",
   "source": [
    "movie_feats = pl.read_csv('movie_feats.csv')\n",
    "print(movie_feats.columns)"
   ],
   "id": "9f7c5c7fc4dc0d9",
   "outputs": [
    {
     "name": "stdout",
     "output_type": "stream",
     "text": [
      "['movieId', 'movie_rating_count', 'movie_rating_mean', 'movie_rating_var', 'movie_rating_std', 'year', 'Action', 'Adventure', 'Animation', 'Children', 'Comedy', 'Crime', 'Documentary', 'Drama', 'Fantasy', 'Film-Noir', 'Horror', 'IMAX', 'Musical', 'Mystery', 'Romance', 'Sci-Fi', 'Thriller', 'War', 'Western', 'title']\n"
     ]
    }
   ],
   "execution_count": 56
  },
  {
   "metadata": {},
   "cell_type": "code",
   "outputs": [],
   "execution_count": null,
   "source": [
    "res = recommend_hybrid(\"Avatar\")\n",
    "print(\"Input Movie:\", res['input_movie'])\n",
    "print(\"Predicted Rating:\", res['predicted_rating'], \"★\")\n",
    "print(\"Similar Movies:\", res['similar_movies'])\n",
    "print(\"Genre‐based Suggestions:\")\n",
    "for g, lst in res['by_genre'].items():\n",
    "    print(f\"  {g}: {lst}\")"
   ],
   "id": "c897e71b19f96527"
  },
  {
   "metadata": {},
   "cell_type": "code",
   "outputs": [],
   "execution_count": null,
   "source": "",
   "id": "6e2687dcc9b2ecd7"
  }
 ],
 "metadata": {
  "kernelspec": {
   "display_name": "Python 3",
   "language": "python",
   "name": "python3"
  },
  "language_info": {
   "codemirror_mode": {
    "name": "ipython",
    "version": 2
   },
   "file_extension": ".py",
   "mimetype": "text/x-python",
   "name": "python",
   "nbconvert_exporter": "python",
   "pygments_lexer": "ipython2",
   "version": "2.7.6"
  }
 },
 "nbformat": 4,
 "nbformat_minor": 5
}
