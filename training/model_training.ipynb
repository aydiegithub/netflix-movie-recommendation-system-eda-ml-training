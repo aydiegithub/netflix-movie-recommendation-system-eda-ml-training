{
 "cells": [
  {
   "metadata": {},
   "cell_type": "markdown",
   "source": "# Load the model",
   "id": "fbe04a96c56766e9"
  },
  {
   "metadata": {
    "ExecuteTime": {
     "end_time": "2025-05-05T03:11:45.629011Z",
     "start_time": "2025-05-05T03:11:16.291627Z"
    }
   },
   "cell_type": "code",
   "source": [
    "import pandas as pd\n",
    "\n",
    "# Load training data\n",
    "train_df = pd.read_csv('train.csv')\n",
    "\n",
    "# Features and Target let's use only movie features and skip user features\n",
    "X_train = train_df.drop(columns=['Unnamed: 0','userId','movieId','rating', 'user_last_rating_ts', 'user_last_rating_ordinal', 'user_rating_count','user_rating_mean','user_rating_var','user_rating_std'])\n",
    "y_train = train_df['rating']"
   ],
   "id": "f2fa1a42f2145b80",
   "outputs": [],
   "execution_count": 3
  },
  {
   "metadata": {
    "ExecuteTime": {
     "end_time": "2025-05-05T03:11:50.240263Z",
     "start_time": "2025-05-05T03:11:45.630891Z"
    }
   },
   "cell_type": "code",
   "source": "X_train",
   "id": "b2c79ef777bf8f10",
   "outputs": [
    {
     "data": {
      "text/plain": [
       "          movie_rating_count  movie_rating_mean  movie_rating_var  \\\n",
       "0                        668           3.101048          1.420434   \n",
       "1                      18242           3.715355          0.967558   \n",
       "2                       1124           3.430160          0.924103   \n",
       "3                       1179           3.486853          1.092145   \n",
       "4                       3235           3.288099          1.025353   \n",
       "...                      ...                ...               ...   \n",
       "20000071               18474           4.026145          0.782865   \n",
       "20000072               14182           3.491045          0.884871   \n",
       "20000073                2059           3.122875          1.155934   \n",
       "20000074                4100           3.451220          1.260001   \n",
       "20000075                5708           3.453399          0.997477   \n",
       "\n",
       "          movie_rating_std  year  Action  Adventure  Animation  Children  \\\n",
       "0                 1.191819  1995       0          0          0         0   \n",
       "1                 0.983645  1995       0          0          0         0   \n",
       "2                 0.961303  1995       0          0          0         0   \n",
       "3                 1.045057  1995       0          0          0         0   \n",
       "4                 1.012597  1996       0          0          0         0   \n",
       "...                    ...   ...     ...        ...        ...       ...   \n",
       "20000071          0.884797  2007       0          0          0         0   \n",
       "20000072          0.940676  2007       1          0          0         0   \n",
       "20000073          1.075144  2008       0          1          0         0   \n",
       "20000074          1.122498  2008       0          0          0         0   \n",
       "20000075          0.998738  2008       1          0          0         0   \n",
       "\n",
       "          Comedy  ...  Film-Noir  Horror  IMAX  Musical  Mystery  Romance  \\\n",
       "0              0  ...          0       0     0        0        0        0   \n",
       "1              0  ...          0       0     0        0        0        0   \n",
       "2              1  ...          0       0     0        0        0        1   \n",
       "3              1  ...          0       0     0        0        0        0   \n",
       "4              0  ...          0       0     0        0        0        1   \n",
       "...          ...  ...        ...     ...   ...      ...      ...      ...   \n",
       "20000071       0  ...          0       0     0        0        0        0   \n",
       "20000072       0  ...          0       1     1        0        0        0   \n",
       "20000073       1  ...          0       0     0        0        0        0   \n",
       "20000074       1  ...          0       0     0        0        0        0   \n",
       "20000075       1  ...          0       0     0        0        0        0   \n",
       "\n",
       "          Sci-Fi  Thriller  War  Western  \n",
       "0              0         0    0        0  \n",
       "1              0         0    0        0  \n",
       "2              0         0    0        0  \n",
       "3              0         0    0        0  \n",
       "4              0         0    0        0  \n",
       "...          ...       ...  ...      ...  \n",
       "20000071       0         0    0        0  \n",
       "20000072       1         1    0        0  \n",
       "20000073       0         0    0        0  \n",
       "20000074       0         0    0        0  \n",
       "20000075       0         0    0        0  \n",
       "\n",
       "[20000076 rows x 24 columns]"
      ],
      "text/html": [
       "<div>\n",
       "<style scoped>\n",
       "    .dataframe tbody tr th:only-of-type {\n",
       "        vertical-align: middle;\n",
       "    }\n",
       "\n",
       "    .dataframe tbody tr th {\n",
       "        vertical-align: top;\n",
       "    }\n",
       "\n",
       "    .dataframe thead th {\n",
       "        text-align: right;\n",
       "    }\n",
       "</style>\n",
       "<table border=\"1\" class=\"dataframe\">\n",
       "  <thead>\n",
       "    <tr style=\"text-align: right;\">\n",
       "      <th></th>\n",
       "      <th>movie_rating_count</th>\n",
       "      <th>movie_rating_mean</th>\n",
       "      <th>movie_rating_var</th>\n",
       "      <th>movie_rating_std</th>\n",
       "      <th>year</th>\n",
       "      <th>Action</th>\n",
       "      <th>Adventure</th>\n",
       "      <th>Animation</th>\n",
       "      <th>Children</th>\n",
       "      <th>Comedy</th>\n",
       "      <th>...</th>\n",
       "      <th>Film-Noir</th>\n",
       "      <th>Horror</th>\n",
       "      <th>IMAX</th>\n",
       "      <th>Musical</th>\n",
       "      <th>Mystery</th>\n",
       "      <th>Romance</th>\n",
       "      <th>Sci-Fi</th>\n",
       "      <th>Thriller</th>\n",
       "      <th>War</th>\n",
       "      <th>Western</th>\n",
       "    </tr>\n",
       "  </thead>\n",
       "  <tbody>\n",
       "    <tr>\n",
       "      <th>0</th>\n",
       "      <td>668</td>\n",
       "      <td>3.101048</td>\n",
       "      <td>1.420434</td>\n",
       "      <td>1.191819</td>\n",
       "      <td>1995</td>\n",
       "      <td>0</td>\n",
       "      <td>0</td>\n",
       "      <td>0</td>\n",
       "      <td>0</td>\n",
       "      <td>0</td>\n",
       "      <td>...</td>\n",
       "      <td>0</td>\n",
       "      <td>0</td>\n",
       "      <td>0</td>\n",
       "      <td>0</td>\n",
       "      <td>0</td>\n",
       "      <td>0</td>\n",
       "      <td>0</td>\n",
       "      <td>0</td>\n",
       "      <td>0</td>\n",
       "      <td>0</td>\n",
       "    </tr>\n",
       "    <tr>\n",
       "      <th>1</th>\n",
       "      <td>18242</td>\n",
       "      <td>3.715355</td>\n",
       "      <td>0.967558</td>\n",
       "      <td>0.983645</td>\n",
       "      <td>1995</td>\n",
       "      <td>0</td>\n",
       "      <td>0</td>\n",
       "      <td>0</td>\n",
       "      <td>0</td>\n",
       "      <td>0</td>\n",
       "      <td>...</td>\n",
       "      <td>0</td>\n",
       "      <td>0</td>\n",
       "      <td>0</td>\n",
       "      <td>0</td>\n",
       "      <td>0</td>\n",
       "      <td>0</td>\n",
       "      <td>0</td>\n",
       "      <td>0</td>\n",
       "      <td>0</td>\n",
       "      <td>0</td>\n",
       "    </tr>\n",
       "    <tr>\n",
       "      <th>2</th>\n",
       "      <td>1124</td>\n",
       "      <td>3.430160</td>\n",
       "      <td>0.924103</td>\n",
       "      <td>0.961303</td>\n",
       "      <td>1995</td>\n",
       "      <td>0</td>\n",
       "      <td>0</td>\n",
       "      <td>0</td>\n",
       "      <td>0</td>\n",
       "      <td>1</td>\n",
       "      <td>...</td>\n",
       "      <td>0</td>\n",
       "      <td>0</td>\n",
       "      <td>0</td>\n",
       "      <td>0</td>\n",
       "      <td>0</td>\n",
       "      <td>1</td>\n",
       "      <td>0</td>\n",
       "      <td>0</td>\n",
       "      <td>0</td>\n",
       "      <td>0</td>\n",
       "    </tr>\n",
       "    <tr>\n",
       "      <th>3</th>\n",
       "      <td>1179</td>\n",
       "      <td>3.486853</td>\n",
       "      <td>1.092145</td>\n",
       "      <td>1.045057</td>\n",
       "      <td>1995</td>\n",
       "      <td>0</td>\n",
       "      <td>0</td>\n",
       "      <td>0</td>\n",
       "      <td>0</td>\n",
       "      <td>1</td>\n",
       "      <td>...</td>\n",
       "      <td>0</td>\n",
       "      <td>0</td>\n",
       "      <td>0</td>\n",
       "      <td>0</td>\n",
       "      <td>0</td>\n",
       "      <td>0</td>\n",
       "      <td>0</td>\n",
       "      <td>0</td>\n",
       "      <td>0</td>\n",
       "      <td>0</td>\n",
       "    </tr>\n",
       "    <tr>\n",
       "      <th>4</th>\n",
       "      <td>3235</td>\n",
       "      <td>3.288099</td>\n",
       "      <td>1.025353</td>\n",
       "      <td>1.012597</td>\n",
       "      <td>1996</td>\n",
       "      <td>0</td>\n",
       "      <td>0</td>\n",
       "      <td>0</td>\n",
       "      <td>0</td>\n",
       "      <td>0</td>\n",
       "      <td>...</td>\n",
       "      <td>0</td>\n",
       "      <td>0</td>\n",
       "      <td>0</td>\n",
       "      <td>0</td>\n",
       "      <td>0</td>\n",
       "      <td>1</td>\n",
       "      <td>0</td>\n",
       "      <td>0</td>\n",
       "      <td>0</td>\n",
       "      <td>0</td>\n",
       "    </tr>\n",
       "    <tr>\n",
       "      <th>...</th>\n",
       "      <td>...</td>\n",
       "      <td>...</td>\n",
       "      <td>...</td>\n",
       "      <td>...</td>\n",
       "      <td>...</td>\n",
       "      <td>...</td>\n",
       "      <td>...</td>\n",
       "      <td>...</td>\n",
       "      <td>...</td>\n",
       "      <td>...</td>\n",
       "      <td>...</td>\n",
       "      <td>...</td>\n",
       "      <td>...</td>\n",
       "      <td>...</td>\n",
       "      <td>...</td>\n",
       "      <td>...</td>\n",
       "      <td>...</td>\n",
       "      <td>...</td>\n",
       "      <td>...</td>\n",
       "      <td>...</td>\n",
       "      <td>...</td>\n",
       "    </tr>\n",
       "    <tr>\n",
       "      <th>20000071</th>\n",
       "      <td>18474</td>\n",
       "      <td>4.026145</td>\n",
       "      <td>0.782865</td>\n",
       "      <td>0.884797</td>\n",
       "      <td>2007</td>\n",
       "      <td>0</td>\n",
       "      <td>0</td>\n",
       "      <td>0</td>\n",
       "      <td>0</td>\n",
       "      <td>0</td>\n",
       "      <td>...</td>\n",
       "      <td>0</td>\n",
       "      <td>0</td>\n",
       "      <td>0</td>\n",
       "      <td>0</td>\n",
       "      <td>0</td>\n",
       "      <td>0</td>\n",
       "      <td>0</td>\n",
       "      <td>0</td>\n",
       "      <td>0</td>\n",
       "      <td>0</td>\n",
       "    </tr>\n",
       "    <tr>\n",
       "      <th>20000072</th>\n",
       "      <td>14182</td>\n",
       "      <td>3.491045</td>\n",
       "      <td>0.884871</td>\n",
       "      <td>0.940676</td>\n",
       "      <td>2007</td>\n",
       "      <td>1</td>\n",
       "      <td>0</td>\n",
       "      <td>0</td>\n",
       "      <td>0</td>\n",
       "      <td>0</td>\n",
       "      <td>...</td>\n",
       "      <td>0</td>\n",
       "      <td>1</td>\n",
       "      <td>1</td>\n",
       "      <td>0</td>\n",
       "      <td>0</td>\n",
       "      <td>0</td>\n",
       "      <td>1</td>\n",
       "      <td>1</td>\n",
       "      <td>0</td>\n",
       "      <td>0</td>\n",
       "    </tr>\n",
       "    <tr>\n",
       "      <th>20000073</th>\n",
       "      <td>2059</td>\n",
       "      <td>3.122875</td>\n",
       "      <td>1.155934</td>\n",
       "      <td>1.075144</td>\n",
       "      <td>2008</td>\n",
       "      <td>0</td>\n",
       "      <td>1</td>\n",
       "      <td>0</td>\n",
       "      <td>0</td>\n",
       "      <td>1</td>\n",
       "      <td>...</td>\n",
       "      <td>0</td>\n",
       "      <td>0</td>\n",
       "      <td>0</td>\n",
       "      <td>0</td>\n",
       "      <td>0</td>\n",
       "      <td>0</td>\n",
       "      <td>0</td>\n",
       "      <td>0</td>\n",
       "      <td>0</td>\n",
       "      <td>0</td>\n",
       "    </tr>\n",
       "    <tr>\n",
       "      <th>20000074</th>\n",
       "      <td>4100</td>\n",
       "      <td>3.451220</td>\n",
       "      <td>1.260001</td>\n",
       "      <td>1.122498</td>\n",
       "      <td>2008</td>\n",
       "      <td>0</td>\n",
       "      <td>0</td>\n",
       "      <td>0</td>\n",
       "      <td>0</td>\n",
       "      <td>1</td>\n",
       "      <td>...</td>\n",
       "      <td>0</td>\n",
       "      <td>0</td>\n",
       "      <td>0</td>\n",
       "      <td>0</td>\n",
       "      <td>0</td>\n",
       "      <td>0</td>\n",
       "      <td>0</td>\n",
       "      <td>0</td>\n",
       "      <td>0</td>\n",
       "      <td>0</td>\n",
       "    </tr>\n",
       "    <tr>\n",
       "      <th>20000075</th>\n",
       "      <td>5708</td>\n",
       "      <td>3.453399</td>\n",
       "      <td>0.997477</td>\n",
       "      <td>0.998738</td>\n",
       "      <td>2008</td>\n",
       "      <td>1</td>\n",
       "      <td>0</td>\n",
       "      <td>0</td>\n",
       "      <td>0</td>\n",
       "      <td>1</td>\n",
       "      <td>...</td>\n",
       "      <td>0</td>\n",
       "      <td>0</td>\n",
       "      <td>0</td>\n",
       "      <td>0</td>\n",
       "      <td>0</td>\n",
       "      <td>0</td>\n",
       "      <td>0</td>\n",
       "      <td>0</td>\n",
       "      <td>0</td>\n",
       "      <td>0</td>\n",
       "    </tr>\n",
       "  </tbody>\n",
       "</table>\n",
       "<p>20000076 rows × 24 columns</p>\n",
       "</div>"
      ]
     },
     "execution_count": 4,
     "metadata": {},
     "output_type": "execute_result"
    }
   ],
   "execution_count": 4
  },
  {
   "metadata": {
    "ExecuteTime": {
     "end_time": "2025-05-05T03:11:50.247362Z",
     "start_time": "2025-05-05T03:11:50.241524Z"
    }
   },
   "cell_type": "code",
   "source": "X_train.columns",
   "id": "507aa234fc02c716",
   "outputs": [
    {
     "data": {
      "text/plain": [
       "Index(['movie_rating_count', 'movie_rating_mean', 'movie_rating_var',\n",
       "       'movie_rating_std', 'year', 'Action', 'Adventure', 'Animation',\n",
       "       'Children', 'Comedy', 'Crime', 'Documentary', 'Drama', 'Fantasy',\n",
       "       'Film-Noir', 'Horror', 'IMAX', 'Musical', 'Mystery', 'Romance',\n",
       "       'Sci-Fi', 'Thriller', 'War', 'Western'],\n",
       "      dtype='object')"
      ]
     },
     "execution_count": 5,
     "metadata": {},
     "output_type": "execute_result"
    }
   ],
   "execution_count": 5
  },
  {
   "metadata": {
    "ExecuteTime": {
     "end_time": "2025-05-05T03:11:56.452431Z",
     "start_time": "2025-05-05T03:11:50.248485Z"
    }
   },
   "cell_type": "code",
   "source": [
    "# Load Test Set\n",
    "test_df = pd.read_csv('test.csv')\n",
    "\n",
    "# Prepare X_test and y_test\n",
    "X_test = test_df.drop(columns=['Unnamed: 0','userId', 'movieId', 'rating', 'user_last_rating_ts', 'user_last_rating_ordinal', 'user_rating_count','user_rating_mean','user_rating_var','user_rating_std'])\n",
    "y_test = test_df['rating']"
   ],
   "id": "3ebf1e940af73699",
   "outputs": [],
   "execution_count": 6
  },
  {
   "metadata": {},
   "cell_type": "markdown",
   "source": [
    "# Using Surprise Module - For Training and Better Prediction  \n",
    "  \n",
    "# SVD and NearestNeighbors"
   ],
   "id": "cb0827215f052500"
  },
  {
   "metadata": {
    "ExecuteTime": {
     "end_time": "2025-05-05T03:11:56.454810Z",
     "start_time": "2025-05-05T03:11:56.453008Z"
    }
   },
   "cell_type": "code",
   "source": [
    "import pandas as pd\n",
    "from surprise import Dataset, Reader, SVD\n",
    "from sklearn.neighbors import NearestNeighbors"
   ],
   "id": "7c31543fded0237a",
   "outputs": [],
   "execution_count": 7
  },
  {
   "metadata": {
    "ExecuteTime": {
     "end_time": "2025-05-05T03:14:22.455500Z",
     "start_time": "2025-05-05T03:11:56.455475Z"
    }
   },
   "cell_type": "code",
   "source": [
    "# -- 1. Load raw ratings (to learn latent factors) -------------------------\n",
    "ratings = pd.read_csv('../ratings.csv')[['userId','movieId','rating']]\n",
    "\n",
    "# Build Surprise dataset & train full SVD model\n",
    "reader = Reader(rating_scale = (0.1, 5.0))\n",
    "data = Dataset.load_from_df(ratings, reader)\n",
    "trainset = data.build_full_trainset()\n",
    "svd = SVD(n_factors=100, random_state=42)\n",
    "svd.fit(trainset)\n",
    "\n",
    "# -- 2. Extract movie‐factor matrix ---------------------------------------\n",
    "# svd.qi is shape (n_items, n_factors), aligned to trainset inner IDs\n",
    "# Map inner IDs → raw movieId, build DataFrame of latent vectors\n",
    "movie_inner_ids = list(trainset._raw2inner_id_items.keys())\n",
    "movie_ids = [int(trainset.to_raw_iid(i)) for i in range(len(movie_inner_ids))] \n",
    "\n",
    "latent_df = pd.DataFrame(\n",
    "    svd.qi, \n",
    "    index=movie_ids,  # raw movieId as index\n",
    ")\n",
    "latent_df.index.name = 'movieId'\n",
    "\n",
    "# -- 3. Fit NearestNeighbors on those latent vectors ----------------------\n",
    "nn_latent = NearestNeighbors(n_neighbors=19, metric='cosine', algorithm='brute')\n",
    "nn_latent.fit(latent_df.values)\n",
    "\n",
    "# -- 4. Load movie features & titles for “predicted rating” & genre lists -\n",
    "movie_feats = pd.read_csv('train.csv')[[\n",
    "    'movieId','movie_rating_mean'\n",
    "]]\n",
    "movies = pd.read_csv('../movies.csv')[['movieId','title','genres']]\n",
    "\n",
    "# Build lookups\n",
    "id_to_title = dict(zip(movies.movieId, movies.title))\n",
    "feat_mean = dict(zip(movie_feats.movieId, movie_feats.movie_rating_mean))"
   ],
   "id": "63ec39419a9212ec",
   "outputs": [],
   "execution_count": 8
  },
  {
   "metadata": {
    "ExecuteTime": {
     "end_time": "2025-05-04T14:30:42.719615Z",
     "start_time": "2025-05-04T14:30:42.712202Z"
    }
   },
   "cell_type": "code",
   "source": [
    "# -- 5. Recommendation function -------------------------------------------\n",
    "def recommend_hybrid(title, topn=10, per_genre=3):\n",
    "    # a) Find movieId\n",
    "    m = movies[movies.title == title]\n",
    "    if m.empty:\n",
    "        m = movies[movies.title.str.contains(title, regex=False)]\n",
    "    if m.empty:\n",
    "        raise ValueError(f\"No movie found matching '{title}'\")\n",
    "    mid = int(m.iloc[0].movieId)\n",
    "    \n",
    "    # b) Predicted rating = historical mean\n",
    "    pred = round(feat_mean.get(mid, 0), 2)\n",
    "    \n",
    "    # c) Find latent‐factor neighbors\n",
    "    #   - Lookup index in latent_df\n",
    "    if mid not in latent_df.index:\n",
    "        raise ValueError(f\"MovieId {mid} missing latent factors\")\n",
    "    vec = latent_df.loc[mid].values.reshape(1, -1)\n",
    "    dists, inds = nn_latent.kneighbors(vec, n_neighbors=topn+1)\n",
    "    \n",
    "    #   - Map back to movieIds, skip itself\n",
    "    all_ids = latent_df.index[inds[0]].tolist()\n",
    "    rec_ids = [i for i in all_ids if i != mid][:topn]\n",
    "    rec_titles = [id_to_title[i] for i in rec_ids]\n",
    "    \n",
    "    # d) Genre‐based top‐K by mean rating\n",
    "    genres = m.iloc[0].genres.split('|')\n",
    "    by_genre = {}\n",
    "    for g in genres:\n",
    "        # filter train.csv for this genre\n",
    "        mask = (pd.read_csv('train.csv')[g] == 1)  # inexpensive single‐column read\n",
    "        top_ids = pd.read_csv('train.csv')[['movieId','movie_rating_mean']][mask] \\\n",
    "                    .nlargest(per_genre, 'movie_rating_mean') \\\n",
    "                    .movieId.tolist()\n",
    "        by_genre[g] = [id_to_title[i] for i in top_ids]\n",
    "    \n",
    "    return {\n",
    "        'input_movie': title,\n",
    "        'predicted_rating': pred,\n",
    "        'similar_movies': rec_titles,\n",
    "        'by_genre': by_genre\n",
    "    }"
   ],
   "id": "3d9e562c8aa7787f",
   "outputs": [],
   "execution_count": 7
  },
  {
   "metadata": {
    "ExecuteTime": {
     "end_time": "2025-05-04T14:33:52.404738Z",
     "start_time": "2025-05-04T14:30:54.182882Z"
    }
   },
   "cell_type": "code",
   "source": [
    "# -- 6. Example ------------------------------------------------------------\n",
    "res = recommend_hybrid(\"Iron Man (2008)\")"
   ],
   "id": "72dd284c792ad3b",
   "outputs": [
    {
     "name": "stdout",
     "output_type": "stream",
     "text": [
      "Input Movie: Iron Man (2008)\n",
      "Predicted Rating: 3.83 ★\n",
      "Similar Movies: ['Avengers, The (2012)', 'Captain America: The Winter Soldier (2014)', 'Captain America: The First Avenger (2011)', 'Captain America: Civil War (2016)', 'Thor (2011)', 'X-Men: First Class (2011)', 'Iron Man 2 (2010)', 'Avengers: Age of Ultron (2015)', 'Iron Man 3 (2013)', 'Ant-Man (2015)']\n",
      "Genre‐based Suggestions:\n",
      "  Action: ['To Be the Best (1993)', 'FB: Fighting Beat (2007)', 'Day of the Panther (1988)']\n",
      "  Adventure: ['Bicycle Dreams (2009)', 'Colossus of the Arena (1962)', \"Tarzan's Fight for Life (1958)\"]\n",
      "  Sci-Fi: ['Awaken (2013)', 'Pale (2016)', 'Awaken (2013)']\n"
     ]
    }
   ],
   "execution_count": 8
  },
  {
   "metadata": {
    "ExecuteTime": {
     "end_time": "2025-05-04T14:37:21.950315Z",
     "start_time": "2025-05-04T14:37:21.946806Z"
    }
   },
   "cell_type": "code",
   "source": [
    "print(\"Input Movie:\", res['input_movie'])\n",
    "print(\"\\nPredicted Rating:\", res['predicted_rating'], \"★\")\n",
    "print(\"\\nSimilar Movies:\", res['similar_movies'])\n",
    "print(\"\\nGenre‐based Suggestions:\")\n",
    "for g, lst in res['by_genre'].items():\n",
    "    print(f\"\\n  {g}: {lst}\")"
   ],
   "id": "18b255e4b2752efb",
   "outputs": [
    {
     "name": "stdout",
     "output_type": "stream",
     "text": [
      "Input Movie: Iron Man (2008)\n",
      "\n",
      "Predicted Rating: 3.83 ★\n",
      "\n",
      "Similar Movies: ['Avengers, The (2012)', 'Captain America: The Winter Soldier (2014)', 'Captain America: The First Avenger (2011)', 'Captain America: Civil War (2016)', 'Thor (2011)', 'X-Men: First Class (2011)', 'Iron Man 2 (2010)', 'Avengers: Age of Ultron (2015)', 'Iron Man 3 (2013)', 'Ant-Man (2015)']\n",
      "\n",
      "Genre‐based Suggestions:\n",
      "\n",
      "  Action: ['To Be the Best (1993)', 'FB: Fighting Beat (2007)', 'Day of the Panther (1988)']\n",
      "\n",
      "  Adventure: ['Bicycle Dreams (2009)', 'Colossus of the Arena (1962)', \"Tarzan's Fight for Life (1958)\"]\n",
      "\n",
      "  Sci-Fi: ['Awaken (2013)', 'Pale (2016)', 'Awaken (2013)']\n"
     ]
    }
   ],
   "execution_count": 10
  },
  {
   "metadata": {
    "ExecuteTime": {
     "start_time": "2025-05-04T14:58:43.053063Z"
    }
   },
   "cell_type": "code",
   "source": [
    "from surprise import Dataset, Reader, SVD\n",
    "from surprise.model_selection import GridSearchCV\n",
    "\n",
    "# Prepare Surprise data\n",
    "ratings = pd.read_csv('../ratings.csv')[['userId','movieId','rating']]\n",
    "reader = Reader(rating_scale=(0.5, 5.0))\n",
    "data = Dataset.load_from_df(ratings, reader)\n",
    "\n",
    "# Define parameter grid for SVD\n",
    "param_grid = {\n",
    "    'n_factors': [20, 50, 100],\n",
    "    'n_epochs': [20, 30],\n",
    "    'lr_all': [0.002, 0.005],\n",
    "    'reg_all': [0.02, 0.05]\n",
    "}\n",
    "\n",
    "# Grid search\n",
    "GS = GridSearchCV(\n",
    "    SVD,\n",
    "    param_grid,\n",
    "    measures=['rmse', 'mae'],\n",
    "    cv=3,\n",
    "    n_jobs=-1\n",
    ")\n",
    "GS.fit(data)\n",
    "\n",
    "# Best parameters\n",
    "print(GS.best_params['rmse'])\n",
    "print(GS.best_score['rmse'])"
   ],
   "id": "3d1cfdc7052d028c",
   "outputs": [
    {
     "name": "stderr",
     "output_type": "stream",
     "text": [
      "/opt/anaconda3/lib/python3.11/site-packages/joblib/externals/loky/process_executor.py:700: UserWarning: A worker stopped while some jobs were given to the executor. This can be caused by a too short worker timeout or by a memory leak.\n",
      "  warnings.warn(\n"
     ]
    }
   ],
   "execution_count": null
  },
  {
   "metadata": {
    "ExecuteTime": {
     "end_time": "2025-05-05T03:19:18.386871Z",
     "start_time": "2025-05-05T03:14:55.286705Z"
    }
   },
   "cell_type": "code",
   "source": [
    "import joblib\n",
    "\n",
    "joblib.dump(svd, 'svd_model.joblib')\n",
    "joblib.dump(nn_latent, 'nn_latent.joblib')\n",
    "latent_df.to_pickle('latent_df.pkl')"
   ],
   "id": "80cad109a4c9423e",
   "outputs": [],
   "execution_count": 9
  },
  {
   "metadata": {
    "ExecuteTime": {
     "end_time": "2025-05-05T05:52:34.502501Z",
     "start_time": "2025-05-05T05:52:33.948353Z"
    }
   },
   "cell_type": "code",
   "source": "import pandas as pd",
   "id": "dabfa6ff48a725d4",
   "outputs": [],
   "execution_count": 1
  },
  {
   "metadata": {
    "ExecuteTime": {
     "end_time": "2025-05-05T05:53:05.817842Z",
     "start_time": "2025-05-05T05:52:41.580298Z"
    }
   },
   "cell_type": "code",
   "source": "data = pd.read_csv('movie_feats.csv')",
   "id": "bfd302f47d33c649",
   "outputs": [],
   "execution_count": 2
  },
  {
   "metadata": {
    "ExecuteTime": {
     "end_time": "2025-05-05T05:53:05.826275Z",
     "start_time": "2025-05-05T05:53:05.820072Z"
    }
   },
   "cell_type": "code",
   "source": "data.columns",
   "id": "daa87eea2f8ec76d",
   "outputs": [
    {
     "data": {
      "text/plain": [
       "Index(['movieId', 'movie_rating_count', 'movie_rating_mean',\n",
       "       'movie_rating_var', 'movie_rating_std', 'year', 'Action', 'Adventure',\n",
       "       'Animation', 'Children', 'Comedy', 'Crime', 'Documentary', 'Drama',\n",
       "       'Fantasy', 'Film-Noir', 'Horror', 'IMAX', 'Musical', 'Mystery',\n",
       "       'Romance', 'Sci-Fi', 'Thriller', 'War', 'Western', 'title'],\n",
       "      dtype='object')"
      ]
     },
     "execution_count": 3,
     "metadata": {},
     "output_type": "execute_result"
    }
   ],
   "execution_count": 3
  },
  {
   "metadata": {
    "ExecuteTime": {
     "end_time": "2025-05-05T06:07:53.388338Z",
     "start_time": "2025-05-05T06:07:53.325148Z"
    }
   },
   "cell_type": "code",
   "source": "data2 = pd.read_csv('/Users/poppinadityagmail.com/Developer/DataScience_Projects/Netflix_Movie_Recomender_System/deployment/data/movies.csv')",
   "id": "42387fa0a4b7a7e7",
   "outputs": [],
   "execution_count": 11
  },
  {
   "metadata": {
    "ExecuteTime": {
     "end_time": "2025-05-05T06:07:55.863515Z",
     "start_time": "2025-05-05T06:07:55.860442Z"
    }
   },
   "cell_type": "code",
   "source": "data2.columns",
   "id": "8f7e457d1d18cffb",
   "outputs": [
    {
     "data": {
      "text/plain": [
       "Index(['Unnamed: 0', 'movieId', 'title', 'genres', 'imdbId', 'tmdbId'], dtype='object')"
      ]
     },
     "execution_count": 12,
     "metadata": {},
     "output_type": "execute_result"
    }
   ],
   "execution_count": 12
  },
  {
   "metadata": {
    "ExecuteTime": {
     "end_time": "2025-05-05T06:08:06.619631Z",
     "start_time": "2025-05-05T06:08:04.946944Z"
    }
   },
   "cell_type": "code",
   "source": "data2 = data2.merge(data[['movieId', 'year']], on = 'movieId', how = 'left')",
   "id": "7895bbfe4da456aa",
   "outputs": [],
   "execution_count": 13
  },
  {
   "metadata": {
    "ExecuteTime": {
     "end_time": "2025-05-05T06:09:06.531043Z",
     "start_time": "2025-05-05T06:09:06.526314Z"
    }
   },
   "cell_type": "code",
   "source": "data2",
   "id": "e9ee35eba8241c28",
   "outputs": [
    {
     "data": {
      "text/plain": [
       "          Unnamed: 0  movieId                           title  \\\n",
       "0                  0        1                Toy Story (1995)   \n",
       "1                  0        1                Toy Story (1995)   \n",
       "2                  0        1                Toy Story (1995)   \n",
       "3                  0        1                Toy Story (1995)   \n",
       "4                  0        1                Toy Story (1995)   \n",
       "...              ...      ...                             ...   \n",
       "25003466       62418   209157                       We (2018)   \n",
       "25003467       62419   209159       Window of the Soul (2001)   \n",
       "25003468       62420   209163                Bad Poems (2018)   \n",
       "25003469       62421   209169             A Girl Thing (2001)   \n",
       "25003470       62422   209171  Women of Devil's Island (1962)   \n",
       "\n",
       "                                               genres   imdbId    tmdbId  \\\n",
       "0         Adventure|Animation|Children|Comedy|Fantasy   114709     862.0   \n",
       "1         Adventure|Animation|Children|Comedy|Fantasy   114709     862.0   \n",
       "2         Adventure|Animation|Children|Comedy|Fantasy   114709     862.0   \n",
       "3         Adventure|Animation|Children|Comedy|Fantasy   114709     862.0   \n",
       "4         Adventure|Animation|Children|Comedy|Fantasy   114709     862.0   \n",
       "...                                               ...      ...       ...   \n",
       "25003466                                        Drama  6671244  499546.0   \n",
       "25003467                                  Documentary   297986   63407.0   \n",
       "25003468                                 Comedy|Drama  6755366  553036.0   \n",
       "25003469                           (no genres listed)   249603  162892.0   \n",
       "25003470                       Action|Adventure|Drama    55323   79513.0   \n",
       "\n",
       "            year  \n",
       "0         1995.0  \n",
       "1         1995.0  \n",
       "2         1995.0  \n",
       "3         1995.0  \n",
       "4         1995.0  \n",
       "...          ...  \n",
       "25003466  2018.0  \n",
       "25003467  2001.0  \n",
       "25003468  2018.0  \n",
       "25003469  2001.0  \n",
       "25003470  1962.0  \n",
       "\n",
       "[25003471 rows x 7 columns]"
      ],
      "text/html": [
       "<div>\n",
       "<style scoped>\n",
       "    .dataframe tbody tr th:only-of-type {\n",
       "        vertical-align: middle;\n",
       "    }\n",
       "\n",
       "    .dataframe tbody tr th {\n",
       "        vertical-align: top;\n",
       "    }\n",
       "\n",
       "    .dataframe thead th {\n",
       "        text-align: right;\n",
       "    }\n",
       "</style>\n",
       "<table border=\"1\" class=\"dataframe\">\n",
       "  <thead>\n",
       "    <tr style=\"text-align: right;\">\n",
       "      <th></th>\n",
       "      <th>Unnamed: 0</th>\n",
       "      <th>movieId</th>\n",
       "      <th>title</th>\n",
       "      <th>genres</th>\n",
       "      <th>imdbId</th>\n",
       "      <th>tmdbId</th>\n",
       "      <th>year</th>\n",
       "    </tr>\n",
       "  </thead>\n",
       "  <tbody>\n",
       "    <tr>\n",
       "      <th>0</th>\n",
       "      <td>0</td>\n",
       "      <td>1</td>\n",
       "      <td>Toy Story (1995)</td>\n",
       "      <td>Adventure|Animation|Children|Comedy|Fantasy</td>\n",
       "      <td>114709</td>\n",
       "      <td>862.0</td>\n",
       "      <td>1995.0</td>\n",
       "    </tr>\n",
       "    <tr>\n",
       "      <th>1</th>\n",
       "      <td>0</td>\n",
       "      <td>1</td>\n",
       "      <td>Toy Story (1995)</td>\n",
       "      <td>Adventure|Animation|Children|Comedy|Fantasy</td>\n",
       "      <td>114709</td>\n",
       "      <td>862.0</td>\n",
       "      <td>1995.0</td>\n",
       "    </tr>\n",
       "    <tr>\n",
       "      <th>2</th>\n",
       "      <td>0</td>\n",
       "      <td>1</td>\n",
       "      <td>Toy Story (1995)</td>\n",
       "      <td>Adventure|Animation|Children|Comedy|Fantasy</td>\n",
       "      <td>114709</td>\n",
       "      <td>862.0</td>\n",
       "      <td>1995.0</td>\n",
       "    </tr>\n",
       "    <tr>\n",
       "      <th>3</th>\n",
       "      <td>0</td>\n",
       "      <td>1</td>\n",
       "      <td>Toy Story (1995)</td>\n",
       "      <td>Adventure|Animation|Children|Comedy|Fantasy</td>\n",
       "      <td>114709</td>\n",
       "      <td>862.0</td>\n",
       "      <td>1995.0</td>\n",
       "    </tr>\n",
       "    <tr>\n",
       "      <th>4</th>\n",
       "      <td>0</td>\n",
       "      <td>1</td>\n",
       "      <td>Toy Story (1995)</td>\n",
       "      <td>Adventure|Animation|Children|Comedy|Fantasy</td>\n",
       "      <td>114709</td>\n",
       "      <td>862.0</td>\n",
       "      <td>1995.0</td>\n",
       "    </tr>\n",
       "    <tr>\n",
       "      <th>...</th>\n",
       "      <td>...</td>\n",
       "      <td>...</td>\n",
       "      <td>...</td>\n",
       "      <td>...</td>\n",
       "      <td>...</td>\n",
       "      <td>...</td>\n",
       "      <td>...</td>\n",
       "    </tr>\n",
       "    <tr>\n",
       "      <th>25003466</th>\n",
       "      <td>62418</td>\n",
       "      <td>209157</td>\n",
       "      <td>We (2018)</td>\n",
       "      <td>Drama</td>\n",
       "      <td>6671244</td>\n",
       "      <td>499546.0</td>\n",
       "      <td>2018.0</td>\n",
       "    </tr>\n",
       "    <tr>\n",
       "      <th>25003467</th>\n",
       "      <td>62419</td>\n",
       "      <td>209159</td>\n",
       "      <td>Window of the Soul (2001)</td>\n",
       "      <td>Documentary</td>\n",
       "      <td>297986</td>\n",
       "      <td>63407.0</td>\n",
       "      <td>2001.0</td>\n",
       "    </tr>\n",
       "    <tr>\n",
       "      <th>25003468</th>\n",
       "      <td>62420</td>\n",
       "      <td>209163</td>\n",
       "      <td>Bad Poems (2018)</td>\n",
       "      <td>Comedy|Drama</td>\n",
       "      <td>6755366</td>\n",
       "      <td>553036.0</td>\n",
       "      <td>2018.0</td>\n",
       "    </tr>\n",
       "    <tr>\n",
       "      <th>25003469</th>\n",
       "      <td>62421</td>\n",
       "      <td>209169</td>\n",
       "      <td>A Girl Thing (2001)</td>\n",
       "      <td>(no genres listed)</td>\n",
       "      <td>249603</td>\n",
       "      <td>162892.0</td>\n",
       "      <td>2001.0</td>\n",
       "    </tr>\n",
       "    <tr>\n",
       "      <th>25003470</th>\n",
       "      <td>62422</td>\n",
       "      <td>209171</td>\n",
       "      <td>Women of Devil's Island (1962)</td>\n",
       "      <td>Action|Adventure|Drama</td>\n",
       "      <td>55323</td>\n",
       "      <td>79513.0</td>\n",
       "      <td>1962.0</td>\n",
       "    </tr>\n",
       "  </tbody>\n",
       "</table>\n",
       "<p>25003471 rows × 7 columns</p>\n",
       "</div>"
      ]
     },
     "execution_count": 15,
     "metadata": {},
     "output_type": "execute_result"
    }
   ],
   "execution_count": 15
  },
  {
   "metadata": {
    "ExecuteTime": {
     "end_time": "2025-05-05T06:09:06.971812Z",
     "start_time": "2025-05-05T06:09:06.531645Z"
    }
   },
   "cell_type": "code",
   "source": [
    "data2 = data2.drop(columns=['Unnamed: 0'])\n",
    "data2.columns"
   ],
   "id": "22e7a9961b28d4a1",
   "outputs": [
    {
     "data": {
      "text/plain": [
       "Index(['movieId', 'title', 'genres', 'imdbId', 'tmdbId', 'year'], dtype='object')"
      ]
     },
     "execution_count": 16,
     "metadata": {},
     "output_type": "execute_result"
    }
   ],
   "execution_count": 16
  },
  {
   "metadata": {
    "ExecuteTime": {
     "end_time": "2025-05-05T06:09:13.791859Z",
     "start_time": "2025-05-05T06:09:13.787589Z"
    }
   },
   "cell_type": "code",
   "source": "data2.tail()",
   "id": "ee63a350d6afc3df",
   "outputs": [
    {
     "data": {
      "text/plain": [
       "          movieId                           title                  genres  \\\n",
       "25003466   209157                       We (2018)                   Drama   \n",
       "25003467   209159       Window of the Soul (2001)             Documentary   \n",
       "25003468   209163                Bad Poems (2018)            Comedy|Drama   \n",
       "25003469   209169             A Girl Thing (2001)      (no genres listed)   \n",
       "25003470   209171  Women of Devil's Island (1962)  Action|Adventure|Drama   \n",
       "\n",
       "           imdbId    tmdbId    year  \n",
       "25003466  6671244  499546.0  2018.0  \n",
       "25003467   297986   63407.0  2001.0  \n",
       "25003468  6755366  553036.0  2018.0  \n",
       "25003469   249603  162892.0  2001.0  \n",
       "25003470    55323   79513.0  1962.0  "
      ],
      "text/html": [
       "<div>\n",
       "<style scoped>\n",
       "    .dataframe tbody tr th:only-of-type {\n",
       "        vertical-align: middle;\n",
       "    }\n",
       "\n",
       "    .dataframe tbody tr th {\n",
       "        vertical-align: top;\n",
       "    }\n",
       "\n",
       "    .dataframe thead th {\n",
       "        text-align: right;\n",
       "    }\n",
       "</style>\n",
       "<table border=\"1\" class=\"dataframe\">\n",
       "  <thead>\n",
       "    <tr style=\"text-align: right;\">\n",
       "      <th></th>\n",
       "      <th>movieId</th>\n",
       "      <th>title</th>\n",
       "      <th>genres</th>\n",
       "      <th>imdbId</th>\n",
       "      <th>tmdbId</th>\n",
       "      <th>year</th>\n",
       "    </tr>\n",
       "  </thead>\n",
       "  <tbody>\n",
       "    <tr>\n",
       "      <th>25003466</th>\n",
       "      <td>209157</td>\n",
       "      <td>We (2018)</td>\n",
       "      <td>Drama</td>\n",
       "      <td>6671244</td>\n",
       "      <td>499546.0</td>\n",
       "      <td>2018.0</td>\n",
       "    </tr>\n",
       "    <tr>\n",
       "      <th>25003467</th>\n",
       "      <td>209159</td>\n",
       "      <td>Window of the Soul (2001)</td>\n",
       "      <td>Documentary</td>\n",
       "      <td>297986</td>\n",
       "      <td>63407.0</td>\n",
       "      <td>2001.0</td>\n",
       "    </tr>\n",
       "    <tr>\n",
       "      <th>25003468</th>\n",
       "      <td>209163</td>\n",
       "      <td>Bad Poems (2018)</td>\n",
       "      <td>Comedy|Drama</td>\n",
       "      <td>6755366</td>\n",
       "      <td>553036.0</td>\n",
       "      <td>2018.0</td>\n",
       "    </tr>\n",
       "    <tr>\n",
       "      <th>25003469</th>\n",
       "      <td>209169</td>\n",
       "      <td>A Girl Thing (2001)</td>\n",
       "      <td>(no genres listed)</td>\n",
       "      <td>249603</td>\n",
       "      <td>162892.0</td>\n",
       "      <td>2001.0</td>\n",
       "    </tr>\n",
       "    <tr>\n",
       "      <th>25003470</th>\n",
       "      <td>209171</td>\n",
       "      <td>Women of Devil's Island (1962)</td>\n",
       "      <td>Action|Adventure|Drama</td>\n",
       "      <td>55323</td>\n",
       "      <td>79513.0</td>\n",
       "      <td>1962.0</td>\n",
       "    </tr>\n",
       "  </tbody>\n",
       "</table>\n",
       "</div>"
      ]
     },
     "execution_count": 19,
     "metadata": {},
     "output_type": "execute_result"
    }
   ],
   "execution_count": 19
  },
  {
   "metadata": {
    "ExecuteTime": {
     "end_time": "2025-05-05T06:11:07.252029Z",
     "start_time": "2025-05-05T06:10:30.637919Z"
    }
   },
   "cell_type": "code",
   "source": "data2.to_csv('/Users/poppinadityagmail.com/Developer/DataScience_Projects/Netflix_Movie_Recomender_System/deployment/data/movies_data.csv')",
   "id": "f4735b0e60f7316e",
   "outputs": [],
   "execution_count": 20
  },
  {
   "metadata": {},
   "cell_type": "code",
   "outputs": [],
   "execution_count": null,
   "source": "",
   "id": "4ac4c7761c47712f"
  }
 ],
 "metadata": {
  "kernelspec": {
   "display_name": "Python 3",
   "language": "python",
   "name": "python3"
  },
  "language_info": {
   "codemirror_mode": {
    "name": "ipython",
    "version": 2
   },
   "file_extension": ".py",
   "mimetype": "text/x-python",
   "name": "python",
   "nbconvert_exporter": "python",
   "pygments_lexer": "ipython2",
   "version": "2.7.6"
  }
 },
 "nbformat": 4,
 "nbformat_minor": 5
}
