{
 "cells": [
  {
   "cell_type": "code",
   "id": "initial_id",
   "metadata": {
    "collapsed": true,
    "ExecuteTime": {
     "end_time": "2025-05-04T15:49:40.167306Z",
     "start_time": "2025-05-04T15:49:39.686457Z"
    }
   },
   "source": "import pandas as pd",
   "outputs": [],
   "execution_count": 1
  },
  {
   "metadata": {
    "ExecuteTime": {
     "end_time": "2025-05-04T15:50:20.387234Z",
     "start_time": "2025-05-04T15:50:20.325794Z"
    }
   },
   "cell_type": "code",
   "source": [
    "# 1. Load your movies.csv and links.csv\n",
    "movies = pd.read_csv('../movies.csv')       # has movieId,title,genres\n",
    "links  = pd.read_csv('../links.csv')        # has movieId,imdbId,tmdbId"
   ],
   "id": "30e716e10645e370",
   "outputs": [],
   "execution_count": 3
  },
  {
   "metadata": {
    "ExecuteTime": {
     "end_time": "2025-05-04T15:51:44.645657Z",
     "start_time": "2025-05-04T15:51:44.641090Z"
    }
   },
   "cell_type": "code",
   "source": "movies",
   "id": "2cfea84e0b23d849",
   "outputs": [
    {
     "data": {
      "text/plain": [
       "       movieId                               title  \\\n",
       "0            1                    Toy Story (1995)   \n",
       "1            2                      Jumanji (1995)   \n",
       "2            3             Grumpier Old Men (1995)   \n",
       "3            4            Waiting to Exhale (1995)   \n",
       "4            5  Father of the Bride Part II (1995)   \n",
       "...        ...                                 ...   \n",
       "62418   209157                           We (2018)   \n",
       "62419   209159           Window of the Soul (2001)   \n",
       "62420   209163                    Bad Poems (2018)   \n",
       "62421   209169                 A Girl Thing (2001)   \n",
       "62422   209171      Women of Devil's Island (1962)   \n",
       "\n",
       "                                            genres  \n",
       "0      Adventure|Animation|Children|Comedy|Fantasy  \n",
       "1                       Adventure|Children|Fantasy  \n",
       "2                                   Comedy|Romance  \n",
       "3                             Comedy|Drama|Romance  \n",
       "4                                           Comedy  \n",
       "...                                            ...  \n",
       "62418                                        Drama  \n",
       "62419                                  Documentary  \n",
       "62420                                 Comedy|Drama  \n",
       "62421                           (no genres listed)  \n",
       "62422                       Action|Adventure|Drama  \n",
       "\n",
       "[62423 rows x 3 columns]"
      ],
      "text/html": [
       "<div>\n",
       "<style scoped>\n",
       "    .dataframe tbody tr th:only-of-type {\n",
       "        vertical-align: middle;\n",
       "    }\n",
       "\n",
       "    .dataframe tbody tr th {\n",
       "        vertical-align: top;\n",
       "    }\n",
       "\n",
       "    .dataframe thead th {\n",
       "        text-align: right;\n",
       "    }\n",
       "</style>\n",
       "<table border=\"1\" class=\"dataframe\">\n",
       "  <thead>\n",
       "    <tr style=\"text-align: right;\">\n",
       "      <th></th>\n",
       "      <th>movieId</th>\n",
       "      <th>title</th>\n",
       "      <th>genres</th>\n",
       "    </tr>\n",
       "  </thead>\n",
       "  <tbody>\n",
       "    <tr>\n",
       "      <th>0</th>\n",
       "      <td>1</td>\n",
       "      <td>Toy Story (1995)</td>\n",
       "      <td>Adventure|Animation|Children|Comedy|Fantasy</td>\n",
       "    </tr>\n",
       "    <tr>\n",
       "      <th>1</th>\n",
       "      <td>2</td>\n",
       "      <td>Jumanji (1995)</td>\n",
       "      <td>Adventure|Children|Fantasy</td>\n",
       "    </tr>\n",
       "    <tr>\n",
       "      <th>2</th>\n",
       "      <td>3</td>\n",
       "      <td>Grumpier Old Men (1995)</td>\n",
       "      <td>Comedy|Romance</td>\n",
       "    </tr>\n",
       "    <tr>\n",
       "      <th>3</th>\n",
       "      <td>4</td>\n",
       "      <td>Waiting to Exhale (1995)</td>\n",
       "      <td>Comedy|Drama|Romance</td>\n",
       "    </tr>\n",
       "    <tr>\n",
       "      <th>4</th>\n",
       "      <td>5</td>\n",
       "      <td>Father of the Bride Part II (1995)</td>\n",
       "      <td>Comedy</td>\n",
       "    </tr>\n",
       "    <tr>\n",
       "      <th>...</th>\n",
       "      <td>...</td>\n",
       "      <td>...</td>\n",
       "      <td>...</td>\n",
       "    </tr>\n",
       "    <tr>\n",
       "      <th>62418</th>\n",
       "      <td>209157</td>\n",
       "      <td>We (2018)</td>\n",
       "      <td>Drama</td>\n",
       "    </tr>\n",
       "    <tr>\n",
       "      <th>62419</th>\n",
       "      <td>209159</td>\n",
       "      <td>Window of the Soul (2001)</td>\n",
       "      <td>Documentary</td>\n",
       "    </tr>\n",
       "    <tr>\n",
       "      <th>62420</th>\n",
       "      <td>209163</td>\n",
       "      <td>Bad Poems (2018)</td>\n",
       "      <td>Comedy|Drama</td>\n",
       "    </tr>\n",
       "    <tr>\n",
       "      <th>62421</th>\n",
       "      <td>209169</td>\n",
       "      <td>A Girl Thing (2001)</td>\n",
       "      <td>(no genres listed)</td>\n",
       "    </tr>\n",
       "    <tr>\n",
       "      <th>62422</th>\n",
       "      <td>209171</td>\n",
       "      <td>Women of Devil's Island (1962)</td>\n",
       "      <td>Action|Adventure|Drama</td>\n",
       "    </tr>\n",
       "  </tbody>\n",
       "</table>\n",
       "<p>62423 rows × 3 columns</p>\n",
       "</div>"
      ]
     },
     "execution_count": 5,
     "metadata": {},
     "output_type": "execute_result"
    }
   ],
   "execution_count": 5
  },
  {
   "metadata": {
    "ExecuteTime": {
     "end_time": "2025-05-04T15:52:03.825106Z",
     "start_time": "2025-05-04T15:52:03.810484Z"
    }
   },
   "cell_type": "code",
   "source": [
    "# 2. Merge in tmdbId\n",
    "movies = movies.merge(links, on = 'movieId', how = 'left')"
   ],
   "id": "42f985f4643aac80",
   "outputs": [],
   "execution_count": 6
  },
  {
   "metadata": {
    "ExecuteTime": {
     "end_time": "2025-05-04T15:53:29.127065Z",
     "start_time": "2025-05-04T15:53:29.026360Z"
    }
   },
   "cell_type": "code",
   "source": [
    "# export movies.csv\n",
    "movies.to_csv('movies.csv')"
   ],
   "id": "29b48cec97209d4f",
   "outputs": [],
   "execution_count": 9
  },
  {
   "metadata": {
    "ExecuteTime": {
     "end_time": "2025-05-05T06:24:38.376700Z",
     "start_time": "2025-05-05T06:24:05.297606Z"
    }
   },
   "cell_type": "code",
   "source": [
    "import pandas as pd\n",
    "train, test = pd.read_csv('/Users/poppinadityagmail.com/Developer/DataScience_Projects/Netflix_Movie_Recomender_System/training/train.csv'), pd.read_csv('/Users/poppinadityagmail.com/Developer/DataScience_Projects/Netflix_Movie_Recomender_System/training/test.csv')"
   ],
   "id": "314b7d2c757c9108",
   "outputs": [],
   "execution_count": 4
  },
  {
   "metadata": {
    "ExecuteTime": {
     "start_time": "2025-05-05T06:24:38.378729Z"
    }
   },
   "cell_type": "code",
   "source": "train = train.merge(test, on = 'movieId', how = 'left')",
   "id": "6f0a846823f0b782",
   "outputs": [],
   "execution_count": null
  },
  {
   "metadata": {},
   "cell_type": "code",
   "source": "train.to_csv('/Users/poppinadityagmail.com/Developer/DataScience_Projects/Netflix_Movie_Recomender_System/deployment/data.csv')",
   "id": "73a2eb42fd0dc00c",
   "outputs": [],
   "execution_count": null
  },
  {
   "metadata": {},
   "cell_type": "code",
   "source": "train",
   "id": "933057d70b9e35c8",
   "outputs": [],
   "execution_count": null
  },
  {
   "metadata": {
    "ExecuteTime": {
     "end_time": "2025-05-05T08:12:46.362360Z",
     "start_time": "2025-05-05T08:12:13.045871Z"
    }
   },
   "cell_type": "code",
   "source": [
    "\n",
    "train = pd.read_csv('/Users/poppinadityagmail.com/Developer/DataScience_Projects/Netflix_Movie_Recomender_System/deployment/data/train.csv')"
   ],
   "id": "d372a1d8e54c523c",
   "outputs": [],
   "execution_count": 1
  },
  {
   "metadata": {
    "ExecuteTime": {
     "end_time": "2025-05-05T08:28:34.471183Z",
     "start_time": "2025-05-05T08:28:34.466272Z"
    }
   },
   "cell_type": "code",
   "source": "train.columns",
   "id": "769ed51cabcf042e",
   "outputs": [
    {
     "data": {
      "text/plain": [
       "Index(['Unnamed: 0', 'userId', 'movieId', 'rating', 'movie_rating_mean',\n",
       "       'user_rating_mean'],\n",
       "      dtype='object')"
      ]
     },
     "execution_count": 4,
     "metadata": {},
     "output_type": "execute_result"
    }
   ],
   "execution_count": 4
  },
  {
   "metadata": {
    "ExecuteTime": {
     "end_time": "2025-05-05T08:14:38.427090Z",
     "start_time": "2025-05-05T08:14:38.113613Z"
    }
   },
   "cell_type": "code",
   "source": "train = train[['userId', 'movieId', 'rating', 'movie_rating_mean', 'user_rating_mean']]",
   "id": "faece8ec6aa0ce6d",
   "outputs": [],
   "execution_count": 4
  },
  {
   "metadata": {
    "ExecuteTime": {
     "end_time": "2025-05-05T08:15:48.690403Z",
     "start_time": "2025-05-05T08:15:15.458507Z"
    }
   },
   "cell_type": "code",
   "source": "train.to_csv('/Users/poppinadityagmail.com/Developer/DataScience_Projects/Netflix_Movie_Recomender_System/deployment/data/train_2.csv')",
   "id": "2b808fbb18d50c25",
   "outputs": [],
   "execution_count": 6
  },
  {
   "metadata": {},
   "cell_type": "code",
   "outputs": [],
   "execution_count": null,
   "source": "",
   "id": "f64c67abc46e0a8f"
  },
  {
   "metadata": {
    "ExecuteTime": {
     "end_time": "2025-05-05T08:28:27.892166Z",
     "start_time": "2025-05-05T08:28:27.351260Z"
    }
   },
   "cell_type": "code",
   "source": "import pandas as pd",
   "id": "13326fb9f3da59bb",
   "outputs": [],
   "execution_count": 2
  },
  {
   "metadata": {
    "ExecuteTime": {
     "end_time": "2025-05-05T08:28:33.197585Z",
     "start_time": "2025-05-05T08:28:28.470690Z"
    }
   },
   "cell_type": "code",
   "source": [
    "\n",
    "train = pd.read_csv('/Users/poppinadityagmail.com/Developer/DataScience_Projects/Netflix_Movie_Recomender_System/deployment/data/train.csv')"
   ],
   "id": "c33e8c5af4d2db",
   "outputs": [],
   "execution_count": 3
  },
  {
   "metadata": {
    "ExecuteTime": {
     "end_time": "2025-05-05T08:36:38.376271Z",
     "start_time": "2025-05-05T08:36:37.977864Z"
    }
   },
   "cell_type": "code",
   "source": [
    "import pandas as pd\n",
    "\n",
    "# Sample data (you can replace this with your CSV file)\n",
    "data = train[['userId', 'movieId', 'rating', 'movie_rating_mean']]\n",
    "\n",
    "# Create DataFrame\n",
    "df = pd.DataFrame(data)\n",
    "\n",
    "# Group by movieId and get the average of movie_rating_mean\n",
    "movie_avg = df.groupby('movieId')['movie_rating_mean'].mean().reset_index()\n",
    "\n",
    "# Save to CSV\n",
    "movie_avg.to_csv(\"movie_avg_rating.csv\", index=False)\n",
    "\n",
    "print(\"✅ File saved: 'movie_avg_rating.csv'\")"
   ],
   "id": "96cc2f845d96b133",
   "outputs": [
    {
     "name": "stdout",
     "output_type": "stream",
     "text": [
      "✅ File saved: 'movie_avg_rating.csv'\n"
     ]
    }
   ],
   "execution_count": 11
  },
  {
   "metadata": {
    "ExecuteTime": {
     "end_time": "2025-05-05T08:36:44.438969Z",
     "start_time": "2025-05-05T08:36:44.432129Z"
    }
   },
   "cell_type": "code",
   "source": "data = pd.read_csv('movie_avg_rating.csv')",
   "id": "76270f63d99eee80",
   "outputs": [],
   "execution_count": 12
  },
  {
   "metadata": {
    "ExecuteTime": {
     "end_time": "2025-05-05T08:36:44.909932Z",
     "start_time": "2025-05-05T08:36:44.906269Z"
    }
   },
   "cell_type": "code",
   "source": "data",
   "id": "8c5e1565afb4169c",
   "outputs": [
    {
     "data": {
      "text/plain": [
       "       movieId  movie_rating_mean\n",
       "0            1           3.893708\n",
       "1            2           3.251527\n",
       "2            3           3.142028\n",
       "3            4           2.853547\n",
       "4            5           3.058434\n",
       "...        ...                ...\n",
       "36718   186367           3.562500\n",
       "36719   186385           0.500000\n",
       "36720   186457           2.500000\n",
       "36721   186495           2.807692\n",
       "36722   186549           3.333333\n",
       "\n",
       "[36723 rows x 2 columns]"
      ],
      "text/html": [
       "<div>\n",
       "<style scoped>\n",
       "    .dataframe tbody tr th:only-of-type {\n",
       "        vertical-align: middle;\n",
       "    }\n",
       "\n",
       "    .dataframe tbody tr th {\n",
       "        vertical-align: top;\n",
       "    }\n",
       "\n",
       "    .dataframe thead th {\n",
       "        text-align: right;\n",
       "    }\n",
       "</style>\n",
       "<table border=\"1\" class=\"dataframe\">\n",
       "  <thead>\n",
       "    <tr style=\"text-align: right;\">\n",
       "      <th></th>\n",
       "      <th>movieId</th>\n",
       "      <th>movie_rating_mean</th>\n",
       "    </tr>\n",
       "  </thead>\n",
       "  <tbody>\n",
       "    <tr>\n",
       "      <th>0</th>\n",
       "      <td>1</td>\n",
       "      <td>3.893708</td>\n",
       "    </tr>\n",
       "    <tr>\n",
       "      <th>1</th>\n",
       "      <td>2</td>\n",
       "      <td>3.251527</td>\n",
       "    </tr>\n",
       "    <tr>\n",
       "      <th>2</th>\n",
       "      <td>3</td>\n",
       "      <td>3.142028</td>\n",
       "    </tr>\n",
       "    <tr>\n",
       "      <th>3</th>\n",
       "      <td>4</td>\n",
       "      <td>2.853547</td>\n",
       "    </tr>\n",
       "    <tr>\n",
       "      <th>4</th>\n",
       "      <td>5</td>\n",
       "      <td>3.058434</td>\n",
       "    </tr>\n",
       "    <tr>\n",
       "      <th>...</th>\n",
       "      <td>...</td>\n",
       "      <td>...</td>\n",
       "    </tr>\n",
       "    <tr>\n",
       "      <th>36718</th>\n",
       "      <td>186367</td>\n",
       "      <td>3.562500</td>\n",
       "    </tr>\n",
       "    <tr>\n",
       "      <th>36719</th>\n",
       "      <td>186385</td>\n",
       "      <td>0.500000</td>\n",
       "    </tr>\n",
       "    <tr>\n",
       "      <th>36720</th>\n",
       "      <td>186457</td>\n",
       "      <td>2.500000</td>\n",
       "    </tr>\n",
       "    <tr>\n",
       "      <th>36721</th>\n",
       "      <td>186495</td>\n",
       "      <td>2.807692</td>\n",
       "    </tr>\n",
       "    <tr>\n",
       "      <th>36722</th>\n",
       "      <td>186549</td>\n",
       "      <td>3.333333</td>\n",
       "    </tr>\n",
       "  </tbody>\n",
       "</table>\n",
       "<p>36723 rows × 2 columns</p>\n",
       "</div>"
      ]
     },
     "execution_count": 13,
     "metadata": {},
     "output_type": "execute_result"
    }
   ],
   "execution_count": 13
  },
  {
   "metadata": {},
   "cell_type": "code",
   "outputs": [],
   "execution_count": null,
   "source": "",
   "id": "44681ad5488ec4e0"
  }
 ],
 "metadata": {
  "kernelspec": {
   "display_name": "Python 3",
   "language": "python",
   "name": "python3"
  },
  "language_info": {
   "codemirror_mode": {
    "name": "ipython",
    "version": 2
   },
   "file_extension": ".py",
   "mimetype": "text/x-python",
   "name": "python",
   "nbconvert_exporter": "python",
   "pygments_lexer": "ipython2",
   "version": "2.7.6"
  }
 },
 "nbformat": 4,
 "nbformat_minor": 5
}
